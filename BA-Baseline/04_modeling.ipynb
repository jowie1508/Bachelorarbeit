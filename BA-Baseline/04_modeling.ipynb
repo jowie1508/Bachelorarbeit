{
 "cells": [
  {
   "cell_type": "markdown",
   "metadata": {},
   "source": [
    "## Modeling"
   ]
  },
  {
   "cell_type": "markdown",
   "metadata": {},
   "source": [
    "This notebook contains code for"
   ]
  },
  {
   "cell_type": "markdown",
   "metadata": {},
   "source": [
    "1. Training of P-Model"
   ]
  },
  {
   "cell_type": "markdown",
   "metadata": {},
   "source": [
    "2. Training of PF-Model"
   ]
  },
  {
   "cell_type": "markdown",
   "metadata": {},
   "source": [
    "In order to keep this notebook clearly readable, some functions are outsourced in utils/"
   ]
  },
  {
   "cell_type": "markdown",
   "metadata": {},
   "source": [
    "____"
   ]
  },
  {
   "cell_type": "markdown",
   "metadata": {},
   "source": [
    "### Imports"
   ]
  },
  {
   "cell_type": "code",
   "execution_count": null,
   "metadata": {},
   "outputs": [],
   "source": [
    "import pandas as pd\n",
    "import pickle\n",
    "\n",
    "from sklearn.preprocessing import StandardScaler\n",
    "\n",
    "from keras.models import Sequential\n",
    "from keras.layers import GRU, Dense, Dropout\n",
    "from keras.models import load_model, plot_model\n",
    "from keras.regularizers import l1, l2, l1_l2\n",
    "from keras.optimizers import Adam\n",
    "\n",
    "from livelossplot import PlotLossesKeras\n",
    "\n",
    "import plotly.graph_objs as go"
   ]
  },
  {
   "cell_type": "markdown",
   "metadata": {},
   "source": [
    "____"
   ]
  },
  {
   "cell_type": "markdown",
   "metadata": {},
   "source": [
    "#### 1. P-Model"
   ]
  },
  {
   "cell_type": "markdown",
   "metadata": {},
   "source": [
    "Load data"
   ]
  },
  {
   "cell_type": "code",
   "execution_count": null,
   "metadata": {},
   "outputs": [],
   "source": [
    "from utils.data_utils import data_loader\n",
    "from utils.utils import train_test_val_data\n",
    "import config\n",
    "\n",
    "# load data\n",
    "data = data_loader(config.columns_P)\n",
    "scaler = StandardScaler()\n",
    "scaled_data = scaler.fit_transform(data)\n",
    "df_scaled = pd.DataFrame(scaled_data, columns=data.columns)\n",
    "\n",
    "\n",
    "X_train, X_val, X_test, y_train, y_val, y_test = train_test_val_data(df_scaled, \n",
    "                                                                     len(data.index.unique()), \n",
    "                                                                     1)"
   ]
  },
  {
   "cell_type": "code",
   "execution_count": null,
   "metadata": {},
   "outputs": [],
   "source": [
    "num_gru_layers = 2\n",
    "units_0, units_1, units_2, units_output = 96, 512, 128, 96\n",
    "dropout_0, dropout_1, dropout_2 = 0.4, 0.2, 0\n",
    "batch_size = 64\n",
    "learning_rate = 0.0014318\n",
    "l1 = 1.3801e-06\n",
    "l2 = 9.534e-06\n",
    "epochs=10"
   ]
  },
  {
   "cell_type": "code",
   "execution_count": null,
   "metadata": {},
   "outputs": [],
   "source": [
    "model_final = Sequential()\n",
    "# Input Layer\n",
    "model_final.add(GRU(units=units_0, return_sequences=True, input_shape=(X_train.shape[1], X_train.shape[2])))\n",
    "model_final.add(Dropout(dropout_0)) \n",
    "# Hidden Layers\n",
    "model_final.add(GRU(units=units_1,return_sequences=True))\n",
    "model_final.add(Dropout(dropout_1))\n",
    "model_final.add(GRU(units=units_2,return_sequences=False))\n",
    "model_final.add(Dropout(dropout_2))\n",
    "# Output Layer\n",
    "model_final.add(Dense(units_output, activation='linear', \n",
    "                kernel_regularizer=l1_l2(l1=l1, l2=l2)\n",
    "                ))\n",
    "\n",
    "# Compile\n",
    "model_final.compile(optimizer=Adam(learning_rate=learning_rate), loss='mean_squared_error', metrics=['mean_absolute_error'])\n",
    "\n",
    "# Trainieren des Modells\n",
    "history = model_final.fit(\n",
    "    X_train, y_train,                   \n",
    "    epochs=epochs,                          \n",
    "    batch_size=batch_size,                   \n",
    "    validation_data=(X_val, y_val),     \n",
    "    callbacks=[PlotLossesKeras()],\n",
    "    use_multiprocessing=True,          \n",
    "    workers=4,                          \n",
    "    verbose=1,                          \n",
    ")\n",
    "\n",
    "with open('data/models/history/P_optimized_final_history.pkl', 'wb') as f:\n",
    "    pickle.dump(history, f)"
   ]
  },
  {
   "cell_type": "markdown",
   "metadata": {},
   "source": [
    "#### 2. PF-Model"
   ]
  },
  {
   "cell_type": "markdown",
   "metadata": {},
   "source": [
    "Load data"
   ]
  },
  {
   "cell_type": "code",
   "execution_count": null,
   "metadata": {},
   "outputs": [],
   "source": [
    "# load data\n",
    "data = data_loader(config.columns_PF)\n",
    "scaler = StandardScaler()\n",
    "scaled_data = scaler.fit_transform(data)\n",
    "df_scaled = pd.DataFrame(scaled_data, columns=data.columns)\n",
    "\n",
    "\n",
    "X_train, X_val, X_test, y_train, y_val, y_test = train_test_val_data(df_scaled, \n",
    "                                                                     len(data.index.unique()), \n",
    "                                                                     1)"
   ]
  },
  {
   "cell_type": "code",
   "execution_count": null,
   "metadata": {},
   "outputs": [],
   "source": [
    "units_0, units_1, units_2 = 256, 192, 192\n",
    "dropout_0, dropout_1, dropout_2 = 0.1, 0.0, 0.4\n",
    "batch_size = 64\n",
    "units_output = 96\n",
    "epochs=34\n",
    "learning_rate=0.003979\n",
    "\n",
    "model_final = Sequential()\n",
    "# Input Layer\n",
    "model_final.add(GRU(units=units_0, return_sequences=True, input_shape=(X_train.shape[1], X_train.shape[2])))\n",
    "model_final.add(Dropout(dropout_0)) \n",
    "# Hidden Layers\n",
    "model_final.add(GRU(units=units_1, return_sequences=True))\n",
    "model_final.add(Dropout(dropout_1)) \n",
    "model_final.add(GRU(units=units_2,return_sequences=False))\n",
    "model_final.add(Dropout(dropout_2))\n",
    "# Output Layer\n",
    "model_final.add(Dense(units_output, activation='linear'))\n",
    "\n",
    "# Compile\n",
    "model_final.compile(optimizer=\"adam\", loss='mean_squared_error', metrics=['mean_absolute_error'])\n",
    "\n",
    "# Trainieren des Modells\n",
    "history = model_final.fit(\n",
    "    X_train, y_train,                   \n",
    "    epochs=epochs,                          \n",
    "    batch_size=batch_size,                      \n",
    "                                       \n",
    "    validation_data=(X_val, y_val),     \n",
    "    callbacks=[PlotLossesKeras()],\n",
    "    use_multiprocessing=True,          \n",
    "    workers=4,                          \n",
    "    verbose=1,                          \n",
    ")\n",
    "\n",
    "with open('data/models/history/PF_optimized_final_history.pkl', 'wb') as f:\n",
    "    pickle.dump(history, f)\n",
    "\n",
    "model_final.save('data/models/GRU_PF_final.h5')  # Speichert das Modell im HDF5-Format"
   ]
  }
 ],
 "metadata": {
  "kernelspec": {
   "display_name": "baseline",
   "language": "python",
   "name": "python3"
  },
  "language_info": {
   "name": "python",
   "version": "3.9.16"
  }
 },
 "nbformat": 4,
 "nbformat_minor": 2
}
