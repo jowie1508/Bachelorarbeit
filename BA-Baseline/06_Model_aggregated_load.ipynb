{
 "cells": [
  {
   "cell_type": "markdown",
   "metadata": {},
   "source": [
    "## Aggregated Load Model"
   ]
  },
  {
   "cell_type": "markdown",
   "metadata": {},
   "source": [
    "This notebook contains code for a model that predicts the aggregated load of all 27 heat pumps"
   ]
  },
  {
   "cell_type": "markdown",
   "metadata": {},
   "source": [
    "In order to keep this notebook clearly readable, some functions are outsourced in utils/"
   ]
  },
  {
   "cell_type": "markdown",
   "metadata": {},
   "source": [
    "### Imports"
   ]
  },
  {
   "cell_type": "code",
   "execution_count": 14,
   "metadata": {},
   "outputs": [],
   "source": [
    "from sklearn.preprocessing import StandardScaler\n",
    "import pandas as pd\n",
    "import pickle\n",
    "\n",
    "from keras.models import Sequential\n",
    "from keras.layers import GRU, Dense, Dropout\n",
    "from livelossplot import PlotLossesKeras\n",
    "\n",
    "import plotly.graph_objs as go\n",
    "from utils.data_utils import data_loader\n",
    "import config"
   ]
  },
  {
   "cell_type": "code",
   "execution_count": 8,
   "metadata": {},
   "outputs": [
    {
     "data": {
      "text/html": [
       "<div>\n",
       "<style scoped>\n",
       "    .dataframe tbody tr th:only-of-type {\n",
       "        vertical-align: middle;\n",
       "    }\n",
       "\n",
       "    .dataframe tbody tr th {\n",
       "        vertical-align: top;\n",
       "    }\n",
       "\n",
       "    .dataframe thead th {\n",
       "        text-align: right;\n",
       "    }\n",
       "</style>\n",
       "<table border=\"1\" class=\"dataframe\">\n",
       "  <thead>\n",
       "    <tr style=\"text-align: right;\">\n",
       "      <th></th>\n",
       "      <th>P_TOT</th>\n",
       "      <th>WEATHER_ATMOSPHERIC_PRESSURE_TOTAL</th>\n",
       "      <th>WEATHER_PRECIPITATION_RATE_TOTAL</th>\n",
       "      <th>WEATHER_PROBABILITY_OF_PRECIPITATION_TOTAL</th>\n",
       "      <th>WEATHER_RELATIVE_HUMIDITY_TOTAL</th>\n",
       "      <th>WEATHER_SOLAR_IRRADIANCE_GLOBAL</th>\n",
       "      <th>WEATHER_TEMPERATURE_TOTAL</th>\n",
       "      <th>WEATHER_WIND_DIRECTION_TOTAL</th>\n",
       "      <th>WEATHER_WIND_SPEED_TOTAL</th>\n",
       "      <th>index</th>\n",
       "    </tr>\n",
       "    <tr>\n",
       "      <th>index</th>\n",
       "      <th></th>\n",
       "      <th></th>\n",
       "      <th></th>\n",
       "      <th></th>\n",
       "      <th></th>\n",
       "      <th></th>\n",
       "      <th></th>\n",
       "      <th></th>\n",
       "      <th></th>\n",
       "      <th></th>\n",
       "    </tr>\n",
       "  </thead>\n",
       "  <tbody>\n",
       "    <tr>\n",
       "      <th>2018-12-31 23:30:00</th>\n",
       "      <td>33616.58963</td>\n",
       "      <td>1029.500000</td>\n",
       "      <td>0.0</td>\n",
       "      <td>45.0</td>\n",
       "      <td>100.000000</td>\n",
       "      <td>0.0</td>\n",
       "      <td>8.900</td>\n",
       "      <td>250.0</td>\n",
       "      <td>4.200000</td>\n",
       "      <td>1546299000</td>\n",
       "    </tr>\n",
       "    <tr>\n",
       "      <th>2018-12-31 23:45:00</th>\n",
       "      <td>33616.58963</td>\n",
       "      <td>1029.425018</td>\n",
       "      <td>0.0</td>\n",
       "      <td>45.0</td>\n",
       "      <td>100.000000</td>\n",
       "      <td>0.0</td>\n",
       "      <td>8.825</td>\n",
       "      <td>250.0</td>\n",
       "      <td>4.275000</td>\n",
       "      <td>1546299900</td>\n",
       "    </tr>\n",
       "    <tr>\n",
       "      <th>2019-01-01 00:00:00</th>\n",
       "      <td>27819.41714</td>\n",
       "      <td>1029.300008</td>\n",
       "      <td>0.0</td>\n",
       "      <td>45.0</td>\n",
       "      <td>98.333333</td>\n",
       "      <td>0.0</td>\n",
       "      <td>8.500</td>\n",
       "      <td>250.0</td>\n",
       "      <td>4.366667</td>\n",
       "      <td>1546300800</td>\n",
       "    </tr>\n",
       "  </tbody>\n",
       "</table>\n",
       "</div>"
      ],
      "text/plain": [
       "                           P_TOT  WEATHER_ATMOSPHERIC_PRESSURE_TOTAL  \\\n",
       "index                                                                  \n",
       "2018-12-31 23:30:00  33616.58963                         1029.500000   \n",
       "2018-12-31 23:45:00  33616.58963                         1029.425018   \n",
       "2019-01-01 00:00:00  27819.41714                         1029.300008   \n",
       "\n",
       "                     WEATHER_PRECIPITATION_RATE_TOTAL  \\\n",
       "index                                                   \n",
       "2018-12-31 23:30:00                               0.0   \n",
       "2018-12-31 23:45:00                               0.0   \n",
       "2019-01-01 00:00:00                               0.0   \n",
       "\n",
       "                     WEATHER_PROBABILITY_OF_PRECIPITATION_TOTAL  \\\n",
       "index                                                             \n",
       "2018-12-31 23:30:00                                        45.0   \n",
       "2018-12-31 23:45:00                                        45.0   \n",
       "2019-01-01 00:00:00                                        45.0   \n",
       "\n",
       "                     WEATHER_RELATIVE_HUMIDITY_TOTAL  \\\n",
       "index                                                  \n",
       "2018-12-31 23:30:00                       100.000000   \n",
       "2018-12-31 23:45:00                       100.000000   \n",
       "2019-01-01 00:00:00                        98.333333   \n",
       "\n",
       "                     WEATHER_SOLAR_IRRADIANCE_GLOBAL  \\\n",
       "index                                                  \n",
       "2018-12-31 23:30:00                              0.0   \n",
       "2018-12-31 23:45:00                              0.0   \n",
       "2019-01-01 00:00:00                              0.0   \n",
       "\n",
       "                     WEATHER_TEMPERATURE_TOTAL  WEATHER_WIND_DIRECTION_TOTAL  \\\n",
       "index                                                                          \n",
       "2018-12-31 23:30:00                      8.900                         250.0   \n",
       "2018-12-31 23:45:00                      8.825                         250.0   \n",
       "2019-01-01 00:00:00                      8.500                         250.0   \n",
       "\n",
       "                     WEATHER_WIND_SPEED_TOTAL       index  \n",
       "index                                                      \n",
       "2018-12-31 23:30:00                  4.200000  1546299000  \n",
       "2018-12-31 23:45:00                  4.275000  1546299900  \n",
       "2019-01-01 00:00:00                  4.366667  1546300800  "
      ]
     },
     "execution_count": 8,
     "metadata": {},
     "output_type": "execute_result"
    }
   ],
   "source": [
    "def aggregate_and_convert_data(data, weather_columns):\n",
    "    \"\"\"\n",
    "    Aggregates the data based on the given weather columns, converts timestamps, and sets 'index' as the last column.\n",
    "\n",
    "    Parameters:\n",
    "    - data (pd.DataFrame): The raw data with a 'index' column for timestamps.\n",
    "    - weather_columns (list): List of column names related to weather data.\n",
    "\n",
    "    Returns:\n",
    "    - pd.DataFrame: Aggregated data with 'index' as the last column.\n",
    "    \"\"\"\n",
    "    # Convert timestamps to datetime\n",
    "    data['index'] = pd.to_datetime(data['index'], unit='s')  # Use unit='ms' if timestamps are in milliseconds\n",
    "\n",
    "    # Set timestamp as index temporarily for aggregation\n",
    "    data.set_index('index', inplace=True)\n",
    "\n",
    "    # Define aggregation functions\n",
    "    aggregations = {'P_TOT': 'sum'}\n",
    "    for column in weather_columns:\n",
    "        aggregations[column] = 'first'\n",
    "\n",
    "    # Aggregate data\n",
    "    aggregated_data = data.groupby(data.index).agg(aggregations)\n",
    "\n",
    "    # Convert index to Unix timestamps and add as a column 'index' at the end\n",
    "    aggregated_data['index'] = aggregated_data.index.astype(int) // 10**9  # Convert to Unix timestamps\n",
    "\n",
    "    # Reorder columns to move 'index' to the end\n",
    "    columns_order = [col for col in aggregated_data.columns if col != 'index'] + ['index']\n",
    "    aggregated_data = aggregated_data[columns_order]\n",
    "\n",
    "    return aggregated_data\n",
    "\n",
    "# Load data\n",
    "data = data_loader(config.columns_P)\n",
    "\n",
    "# Define weather columns\n",
    "weather_columns = [\n",
    "    'WEATHER_ATMOSPHERIC_PRESSURE_TOTAL',\n",
    "    'WEATHER_PRECIPITATION_RATE_TOTAL',\n",
    "    'WEATHER_PROBABILITY_OF_PRECIPITATION_TOTAL',\n",
    "    'WEATHER_RELATIVE_HUMIDITY_TOTAL', 'WEATHER_SOLAR_IRRADIANCE_GLOBAL',\n",
    "    'WEATHER_TEMPERATURE_TOTAL', 'WEATHER_WIND_DIRECTION_TOTAL',\n",
    "    'WEATHER_WIND_SPEED_TOTAL'\n",
    "]\n",
    "\n",
    "# Aggregate and convert data\n",
    "aggregated_data = aggregate_and_convert_data(data, weather_columns)\n",
    "\n",
    "# Display the result\n",
    "aggregated_data.head(3)\n"
   ]
  },
  {
   "cell_type": "code",
   "execution_count": 10,
   "metadata": {},
   "outputs": [
    {
     "name": "stdout",
     "output_type": "stream",
     "text": [
      "scaled_data.shape: (70178, 10)\n",
      "X.shape: (728, 288, 10)\n",
      "y.shape: (728, 96, 1)\n"
     ]
    }
   ],
   "source": [
    "from utils.utils import create_daily_sequences\n",
    "data = aggregated_data.copy()\n",
    "\n",
    "# scale data\n",
    "scaler = StandardScaler()\n",
    "scaled_data = scaler.fit_transform(data)\n",
    "df_scaled = pd.DataFrame(scaled_data, columns=data.columns)\n",
    "\n",
    "print(\"scaled_data.shape: \" + str(scaled_data.shape))\n",
    "X, y = create_daily_sequences(df_scaled, 3, 1, 1)\n",
    "print(\"X.shape: \" + str(X.shape))\n",
    "print(\"y.shape: \" + str(y.shape))"
   ]
  },
  {
   "cell_type": "code",
   "execution_count": 11,
   "metadata": {},
   "outputs": [
    {
     "name": "stdout",
     "output_type": "stream",
     "text": [
      "Dimensionen X_train: (291, 288, 10)\n",
      "Dimensionen X_val: (73, 288, 10)\n",
      "Dimensionen X_test: (364, 288, 10)\n",
      "Dimensionen y_train: (291, 96, 1)\n",
      "Dimensionen y_val: (73, 96, 1)\n",
      "Dimensionen y_test: (364, 96, 1)\n"
     ]
    }
   ],
   "source": [
    "from sklearn.model_selection import train_test_split\n",
    "\n",
    "X_train_val = X[0:int(0.5*len(X))]\n",
    "y_train_val = y[0:int(0.5*len(y))]\n",
    "X_test = X[int(0.5*len(X)):]\n",
    "y_test = y[int(0.5*len(X)):]\n",
    "X_train, X_val, y_train, y_val = train_test_split(\n",
    "                                        X_train_val, y_train_val, \n",
    "                                        test_size=0.2, random_state=42\n",
    "                                        )\n",
    "print(\"Dimensionen X_train: \" + str(X_train.shape))\n",
    "print(\"Dimensionen X_val: \" + str(X_val.shape))\n",
    "print(\"Dimensionen X_test: \" + str(X_test.shape))\n",
    "print(\"Dimensionen y_train: \" + str(y_train.shape))\n",
    "print(\"Dimensionen y_val: \" + str(y_val.shape))\n",
    "print(\"Dimensionen y_test: \" + str(y_test.shape))"
   ]
  },
  {
   "cell_type": "code",
   "execution_count": 15,
   "metadata": {},
   "outputs": [
    {
     "data": {
      "image/png": "[encoded data removed]",
      "text/plain": [
       "<Figure size 1200x800 with 2 Axes>"
      ]
     },
     "metadata": {},
     "output_type": "display_data"
    },
    {
     "name": "stdout",
     "output_type": "stream",
     "text": [
      "Loss\n",
      "\ttraining         \t (min:    0.173, max:    1.279, cur:    0.175)\n",
      "\tvalidation       \t (min:    0.228, max:    1.006, cur:    0.239)\n",
      "mean_absolute_error\n",
      "\ttraining         \t (min:    0.298, max:    0.864, cur:    0.298)\n",
      "\tvalidation       \t (min:    0.348, max:    0.745, cur:    0.355)\n",
      "10/10 [==============================] - 2s 221ms/step - loss: 0.1752 - mean_absolute_error: 0.2984 - val_loss: 0.2389 - val_mean_absolute_error: 0.3554\n",
      "Keras weights file (<HDF5 file \"variables.h5\" (mode r+)>) saving:\n",
      "...layers\n",
      "......dense\n",
      ".........vars\n",
      "............0\n",
      "............1\n",
      "......dropout\n",
      ".........vars\n",
      "......dropout_1\n",
      ".........vars\n",
      "......gru\n",
      ".........cell\n",
      "............vars\n",
      "...............0\n",
      "...............1\n",
      "...............2\n",
      ".........vars\n",
      "......gru_1\n",
      ".........cell\n",
      "............vars\n",
      "...............0\n",
      "...............1\n",
      "...............2\n",
      ".........vars\n",
      "...metrics\n",
      "......mean\n",
      ".........vars\n",
      "............0\n",
      "............1\n",
      "......mean_metric_wrapper\n",
      ".........vars\n",
      "............0\n",
      "............1\n",
      "...optimizer\n",
      "......vars\n",
      ".........0\n",
      ".........1\n",
      ".........10\n",
      ".........11\n",
      ".........12\n",
      ".........13\n",
      ".........14\n",
      ".........15\n",
      ".........16\n",
      ".........2\n",
      ".........3\n",
      ".........4\n",
      ".........5\n",
      ".........6\n",
      ".........7\n",
      ".........8\n",
      ".........9\n",
      "...vars\n",
      "Keras model archive saving:\n",
      "File Name                                             Modified             Size\n",
      "config.json                                    2024-02-23 22:56:27         2937\n",
      "metadata.json                                  2024-02-23 22:56:27           64\n",
      "variables.h5                                   2024-02-23 22:56:27      1251032\n"
     ]
    }
   ],
   "source": [
    "units_0, units_1 = 64, 128\n",
    "dropout_0, dropout_1 = 0.1, 0.1\n",
    "batch_size = 32\n",
    "units_output = 96\n",
    "epochs=50\n",
    "\n",
    "model = Sequential()\n",
    "# Input Layer\n",
    "model.add(GRU(units=units_0, return_sequences=True, input_shape=(X_train.shape[1], X_train.shape[2])))\n",
    "model.add(Dropout(dropout_0)) \n",
    "# Hidden Layers\n",
    "model.add(GRU(units=units_1,return_sequences=False))\n",
    "model.add(Dropout(dropout_1))\n",
    "# Output Layer\n",
    "model.add(Dense(units_output, activation='linear'))\n",
    "\n",
    "# Compile\n",
    "model.compile(optimizer=\"adam\", loss='mean_squared_error', metrics=['mean_absolute_error'])\n",
    "\n",
    "# Trainieren des Modells\n",
    "history = model.fit(\n",
    "    X_train, y_train,                   \n",
    "    epochs=epochs,                          \n",
    "    batch_size=batch_size,                      \n",
    "                                       \n",
    "    validation_data=(X_val, y_val),     \n",
    "    callbacks=[PlotLossesKeras()],\n",
    "    use_multiprocessing=True,          \n",
    "    workers=4,                          \n",
    "    verbose=1,                          \n",
    ")\n",
    "\n",
    "with open('data/models/history/P_simple_agg_history.pkl', 'wb') as f:\n",
    "    pickle.dump(history, f)"
   ]
  },
  {
   "cell_type": "code",
   "execution_count": 17,
   "metadata": {},
   "outputs": [
    {
     "data": {
      "application/vnd.plotly.v1+json": {
       "config": {
        "plotlyServerURL": "https://plot.ly"
       },
       "data": [
        {
         "mode": "lines",
         "name": "Trainingsverlust",
         "type": "scatter",
         "y": [
          1.2793103456497192,
          0.6780419945716858,
          0.4338490068912506,
          0.33045220375061035,
          0.278138667345047,
          0.2509152889251709,
          0.23448273539543152,
          0.229878768324852,
          0.21797378361225128,
          0.22213579714298248,
          0.2169565111398697,
          0.2137068212032318,
          0.20500580966472626,
          0.20304208993911743,
          0.19981518387794495,
          0.19679893553256989,
          0.19737619161605835,
          0.20032382011413574,
          0.20287787914276123,
          0.19414134323596954,
          0.18915507197380066,
          0.19266220927238464,
          0.19159412384033203,
          0.19037695229053497,
          0.19198639690876007,
          0.19481882452964783,
          0.19197221100330353,
          0.18475176393985748,
          0.1870819479227066,
          0.19772928953170776,
          0.1899263858795166,
          0.18809004127979279,
          0.1856997013092041,
          0.18439562618732452,
          0.18336185812950134,
          0.18084071576595306,
          0.187917560338974,
          0.18947818875312805,
          0.1819697916507721,
          0.1958252191543579,
          0.18806207180023193,
          0.18320336937904358,
          0.18331991136074066,
          0.1801053285598755,
          0.17642949521541595,
          0.17627425491809845,
          0.17618677020072937,
          0.17543601989746094,
          0.17291419208049774,
          0.17519085109233856
         ]
        },
        {
         "mode": "lines",
         "name": "Validierungsverlust",
         "type": "scatter",
         "y": [
          1.0061131715774536,
          0.5498379468917847,
          0.4001220762729645,
          0.3168647885322571,
          0.2956286370754242,
          0.2734167277812958,
          0.2559872567653656,
          0.23859146237373352,
          0.23685535788536072,
          0.24629279971122742,
          0.25021466612815857,
          0.2389720231294632,
          0.23844580352306366,
          0.23405051231384277,
          0.23115427792072296,
          0.23279446363449097,
          0.24776294827461243,
          0.23150724172592163,
          0.2297191619873047,
          0.23913320899009705,
          0.23022761940956116,
          0.23321355879306793,
          0.23527508974075317,
          0.2307886928319931,
          0.23353223502635956,
          0.23787997663021088,
          0.22881947457790375,
          0.23362715542316437,
          0.23040400445461273,
          0.24142314493656158,
          0.24351030588150024,
          0.24589967727661133,
          0.23240377008914948,
          0.2314606010913849,
          0.2280677706003189,
          0.23000234365463257,
          0.24634863436222076,
          0.23704630136489868,
          0.23303724825382233,
          0.24390175938606262,
          0.24392811954021454,
          0.2280997484922409,
          0.23151186108589172,
          0.22993451356887817,
          0.23418578505516052,
          0.23324789106845856,
          0.22908660769462585,
          0.23349952697753906,
          0.23157328367233276,
          0.23887532949447632
         ]
        }
       ],
       "layout": {
        "height": 500,
        "legend": {
         "x": 0.8
        },
        "template": {
         "data": {
          "bar": [
           {
            "error_x": {
             "color": "#2a3f5f"
            },
            "error_y": {
             "color": "#2a3f5f"
            },
            "marker": {
             "line": {
              "color": "white",
              "width": 0.5
             },
             "pattern": {
              "fillmode": "overlay",
              "size": 10,
              "solidity": 0.2
             }
            },
            "type": "bar"
           }
          ],
          "barpolar": [
           {
            "marker": {
             "line": {
              "color": "white",
              "width": 0.5
             },
             "pattern": {
              "fillmode": "overlay",
              "size": 10,
              "solidity": 0.2
             }
            },
            "type": "barpolar"
           }
          ],
          "carpet": [
           {
            "aaxis": {
             "endlinecolor": "#2a3f5f",
             "gridcolor": "#C8D4E3",
             "linecolor": "#C8D4E3",
             "minorgridcolor": "#C8D4E3",
             "startlinecolor": "#2a3f5f"
            },
            "baxis": {
             "endlinecolor": "#2a3f5f",
             "gridcolor": "#C8D4E3",
             "linecolor": "#C8D4E3",
             "minorgridcolor": "#C8D4E3",
             "startlinecolor": "#2a3f5f"
            },
            "type": "carpet"
           }
          ],
          "choropleth": [
           {
            "colorbar": {
             "outlinewidth": 0,
             "ticks": ""
            },
            "type": "choropleth"
           }
          ],
          "contour": [
           {
            "colorbar": {
             "outlinewidth": 0,
             "ticks": ""
            },
            "colorscale": [
             [
              0,
              "#0d0887"
             ],
             [
              0.1111111111111111,
              "#46039f"
             ],
             [
              0.2222222222222222,
              "#7201a8"
             ],
             [
              0.3333333333333333,
              "#9c179e"
             ],
             [
              0.4444444444444444,
              "#bd3786"
             ],
             [
              0.5555555555555556,
              "#d8576b"
             ],
             [
              0.6666666666666666,
              "#ed7953"
             ],
             [
              0.7777777777777778,
              "#fb9f3a"
             ],
             [
              0.8888888888888888,
              "#fdca26"
             ],
             [
              1,
              "#f0f921"
             ]
            ],
            "type": "contour"
           }
          ],
          "contourcarpet": [
           {
            "colorbar": {
             "outlinewidth": 0,
             "ticks": ""
            },
            "type": "contourcarpet"
           }
          ],
          "heatmap": [
           {
            "colorbar": {
             "outlinewidth": 0,
             "ticks": ""
            },
            "colorscale": [
             [
              0,
              "#0d0887"
             ],
             [
              0.1111111111111111,
              "#46039f"
             ],
             [
              0.2222222222222222,
              "#7201a8"
             ],
             [
              0.3333333333333333,
              "#9c179e"
             ],
             [
              0.4444444444444444,
              "#bd3786"
             ],
             [
              0.5555555555555556,
              "#d8576b"
             ],
             [
              0.6666666666666666,
              "#ed7953"
             ],
             [
              0.7777777777777778,
              "#fb9f3a"
             ],
             [
              0.8888888888888888,
              "#fdca26"
             ],
             [
              1,
              "#f0f921"
             ]
            ],
            "type": "heatmap"
           }
          ],
          "heatmapgl": [
           {
            "colorbar": {
             "outlinewidth": 0,
             "ticks": ""
            },
            "colorscale": [
             [
              0,
              "#0d0887"
             ],
             [
              0.1111111111111111,
              "#46039f"
             ],
             [
              0.2222222222222222,
              "#7201a8"
             ],
             [
              0.3333333333333333,
              "#9c179e"
             ],
             [
              0.4444444444444444,
              "#bd3786"
             ],
             [
              0.5555555555555556,
              "#d8576b"
             ],
             [
              0.6666666666666666,
              "#ed7953"
             ],
             [
              0.7777777777777778,
              "#fb9f3a"
             ],
             [
              0.8888888888888888,
              "#fdca26"
             ],
             [
              1,
              "#f0f921"
             ]
            ],
            "type": "heatmapgl"
           }
          ],
          "histogram": [
           {
            "marker": {
             "pattern": {
              "fillmode": "overlay",
              "size": 10,
              "solidity": 0.2
             }
            },
            "type": "histogram"
           }
          ],
          "histogram2d": [
           {
            "colorbar": {
             "outlinewidth": 0,
             "ticks": ""
            },
            "colorscale": [
             [
              0,
              "#0d0887"
             ],
             [
              0.1111111111111111,
              "#46039f"
             ],
             [
              0.2222222222222222,
              "#7201a8"
             ],
             [
              0.3333333333333333,
              "#9c179e"
             ],
             [
              0.4444444444444444,
              "#bd3786"
             ],
             [
              0.5555555555555556,
              "#d8576b"
             ],
             [
              0.6666666666666666,
              "#ed7953"
             ],
             [
              0.7777777777777778,
              "#fb9f3a"
             ],
             [
              0.8888888888888888,
              "#fdca26"
             ],
             [
              1,
              "#f0f921"
             ]
            ],
            "type": "histogram2d"
           }
          ],
          "histogram2dcontour": [
           {
            "colorbar": {
             "outlinewidth": 0,
             "ticks": ""
            },
            "colorscale": [
             [
              0,
              "#0d0887"
             ],
             [
              0.1111111111111111,
              "#46039f"
             ],
             [
              0.2222222222222222,
              "#7201a8"
             ],
             [
              0.3333333333333333,
              "#9c179e"
             ],
             [
              0.4444444444444444,
              "#bd3786"
             ],
             [
              0.5555555555555556,
              "#d8576b"
             ],
             [
              0.6666666666666666,
              "#ed7953"
             ],
             [
              0.7777777777777778,
              "#fb9f3a"
             ],
             [
              0.8888888888888888,
              "#fdca26"
             ],
             [
              1,
              "#f0f921"
             ]
            ],
            "type": "histogram2dcontour"
           }
          ],
          "mesh3d": [
           {
            "colorbar": {
             "outlinewidth": 0,
             "ticks": ""
            },
            "type": "mesh3d"
           }
          ],
          "parcoords": [
           {
            "line": {
             "colorbar": {
              "outlinewidth": 0,
              "ticks": ""
             }
            },
            "type": "parcoords"
           }
          ],
          "pie": [
           {
            "automargin": true,
            "type": "pie"
           }
          ],
          "scatter": [
           {
            "fillpattern": {
             "fillmode": "overlay",
             "size": 10,
             "solidity": 0.2
            },
            "type": "scatter"
           }
          ],
          "scatter3d": [
           {
            "line": {
             "colorbar": {
              "outlinewidth": 0,
              "ticks": ""
             }
            },
            "marker": {
             "colorbar": {
              "outlinewidth": 0,
              "ticks": ""
             }
            },
            "type": "scatter3d"
           }
          ],
          "scattercarpet": [
           {
            "marker": {
             "colorbar": {
              "outlinewidth": 0,
              "ticks": ""
             }
            },
            "type": "scattercarpet"
           }
          ],
          "scattergeo": [
           {
            "marker": {
             "colorbar": {
              "outlinewidth": 0,
              "ticks": ""
             }
            },
            "type": "scattergeo"
           }
          ],
          "scattergl": [
           {
            "marker": {
             "colorbar": {
              "outlinewidth": 0,
              "ticks": ""
             }
            },
            "type": "scattergl"
           }
          ],
          "scattermapbox": [
           {
            "marker": {
             "colorbar": {
              "outlinewidth": 0,
              "ticks": ""
             }
            },
            "type": "scattermapbox"
           }
          ],
          "scatterpolar": [
           {
            "marker": {
             "colorbar": {
              "outlinewidth": 0,
              "ticks": ""
             }
            },
            "type": "scatterpolar"
           }
          ],
          "scatterpolargl": [
           {
            "marker": {
             "colorbar": {
              "outlinewidth": 0,
              "ticks": ""
             }
            },
            "type": "scatterpolargl"
           }
          ],
          "scatterternary": [
           {
            "marker": {
             "colorbar": {
              "outlinewidth": 0,
              "ticks": ""
             }
            },
            "type": "scatterternary"
           }
          ],
          "surface": [
           {
            "colorbar": {
             "outlinewidth": 0,
             "ticks": ""
            },
            "colorscale": [
             [
              0,
              "#0d0887"
             ],
             [
              0.1111111111111111,
              "#46039f"
             ],
             [
              0.2222222222222222,
              "#7201a8"
             ],
             [
              0.3333333333333333,
              "#9c179e"
             ],
             [
              0.4444444444444444,
              "#bd3786"
             ],
             [
              0.5555555555555556,
              "#d8576b"
             ],
             [
              0.6666666666666666,
              "#ed7953"
             ],
             [
              0.7777777777777778,
              "#fb9f3a"
             ],
             [
              0.8888888888888888,
              "#fdca26"
             ],
             [
              1,
              "#f0f921"
             ]
            ],
            "type": "surface"
           }
          ],
          "table": [
           {
            "cells": {
             "fill": {
              "color": "#EBF0F8"
             },
             "line": {
              "color": "white"
             }
            },
            "header": {
             "fill": {
              "color": "#C8D4E3"
             },
             "line": {
              "color": "white"
             }
            },
            "type": "table"
           }
          ]
         },
         "layout": {
          "annotationdefaults": {
           "arrowcolor": "#2a3f5f",
           "arrowhead": 0,
           "arrowwidth": 1
          },
          "autotypenumbers": "strict",
          "coloraxis": {
           "colorbar": {
            "outlinewidth": 0,
            "ticks": ""
           }
          },
          "colorscale": {
           "diverging": [
            [
             0,
             "#8e0152"
            ],
            [
             0.1,
             "#c51b7d"
            ],
            [
             0.2,
             "#de77ae"
            ],
            [
             0.3,
             "#f1b6da"
            ],
            [
             0.4,
             "#fde0ef"
            ],
            [
             0.5,
             "#f7f7f7"
            ],
            [
             0.6,
             "#e6f5d0"
            ],
            [
             0.7,
             "#b8e186"
            ],
            [
             0.8,
             "#7fbc41"
            ],
            [
             0.9,
             "#4d9221"
            ],
            [
             1,
             "#276419"
            ]
           ],
           "sequential": [
            [
             0,
             "#0d0887"
            ],
            [
             0.1111111111111111,
             "#46039f"
            ],
            [
             0.2222222222222222,
             "#7201a8"
            ],
            [
             0.3333333333333333,
             "#9c179e"
            ],
            [
             0.4444444444444444,
             "#bd3786"
            ],
            [
             0.5555555555555556,
             "#d8576b"
            ],
            [
             0.6666666666666666,
             "#ed7953"
            ],
            [
             0.7777777777777778,
             "#fb9f3a"
            ],
            [
             0.8888888888888888,
             "#fdca26"
            ],
            [
             1,
             "#f0f921"
            ]
           ],
           "sequentialminus": [
            [
             0,
             "#0d0887"
            ],
            [
             0.1111111111111111,
             "#46039f"
            ],
            [
             0.2222222222222222,
             "#7201a8"
            ],
            [
             0.3333333333333333,
             "#9c179e"
            ],
            [
             0.4444444444444444,
             "#bd3786"
            ],
            [
             0.5555555555555556,
             "#d8576b"
            ],
            [
             0.6666666666666666,
             "#ed7953"
            ],
            [
             0.7777777777777778,
             "#fb9f3a"
            ],
            [
             0.8888888888888888,
             "#fdca26"
            ],
            [
             1,
             "#f0f921"
            ]
           ]
          },
          "colorway": [
           "#636efa",
           "#EF553B",
           "#00cc96",
           "#ab63fa",
           "#FFA15A",
           "#19d3f3",
           "#FF6692",
           "#B6E880",
           "#FF97FF",
           "#FECB52"
          ],
          "font": {
           "color": "#2a3f5f"
          },
          "geo": {
           "bgcolor": "white",
           "lakecolor": "white",
           "landcolor": "white",
           "showlakes": true,
           "showland": true,
           "subunitcolor": "#C8D4E3"
          },
          "hoverlabel": {
           "align": "left"
          },
          "hovermode": "closest",
          "mapbox": {
           "style": "light"
          },
          "paper_bgcolor": "white",
          "plot_bgcolor": "white",
          "polar": {
           "angularaxis": {
            "gridcolor": "#EBF0F8",
            "linecolor": "#EBF0F8",
            "ticks": ""
           },
           "bgcolor": "white",
           "radialaxis": {
            "gridcolor": "#EBF0F8",
            "linecolor": "#EBF0F8",
            "ticks": ""
           }
          },
          "scene": {
           "xaxis": {
            "backgroundcolor": "white",
            "gridcolor": "#DFE8F3",
            "gridwidth": 2,
            "linecolor": "#EBF0F8",
            "showbackground": true,
            "ticks": "",
            "zerolinecolor": "#EBF0F8"
           },
           "yaxis": {
            "backgroundcolor": "white",
            "gridcolor": "#DFE8F3",
            "gridwidth": 2,
            "linecolor": "#EBF0F8",
            "showbackground": true,
            "ticks": "",
            "zerolinecolor": "#EBF0F8"
           },
           "zaxis": {
            "backgroundcolor": "white",
            "gridcolor": "#DFE8F3",
            "gridwidth": 2,
            "linecolor": "#EBF0F8",
            "showbackground": true,
            "ticks": "",
            "zerolinecolor": "#EBF0F8"
           }
          },
          "shapedefaults": {
           "line": {
            "color": "#2a3f5f"
           }
          },
          "ternary": {
           "aaxis": {
            "gridcolor": "#DFE8F3",
            "linecolor": "#A2B1C6",
            "ticks": ""
           },
           "baxis": {
            "gridcolor": "#DFE8F3",
            "linecolor": "#A2B1C6",
            "ticks": ""
           },
           "bgcolor": "white",
           "caxis": {
            "gridcolor": "#DFE8F3",
            "linecolor": "#A2B1C6",
            "ticks": ""
           }
          },
          "title": {
           "x": 0.05
          },
          "xaxis": {
           "automargin": true,
           "gridcolor": "#EBF0F8",
           "linecolor": "#EBF0F8",
           "ticks": "",
           "title": {
            "standoff": 15
           },
           "zerolinecolor": "#EBF0F8",
           "zerolinewidth": 2
          },
          "yaxis": {
           "automargin": true,
           "gridcolor": "#EBF0F8",
           "linecolor": "#EBF0F8",
           "ticks": "",
           "title": {
            "standoff": 15
           },
           "zerolinecolor": "#EBF0F8",
           "zerolinewidth": 2
          }
         }
        },
        "title": {
         "text": "Trainings- und Validierungsverlust aggregierte Last",
         "x": 0.5
        },
        "width": 1000,
        "xaxis": {
         "title": {
          "text": "Epochen"
         }
        },
        "yaxis": {
         "title": {
          "text": "Verlust"
         }
        }
       }
      }
     },
     "metadata": {},
     "output_type": "display_data"
    }
   ],
   "source": [
    "# Erstellung des Plotly-Diagramms\n",
    "fig = go.Figure()\n",
    "\n",
    "# Hinzufügen des Trainingsverlustes\n",
    "fig.add_trace(go.Scatter(\n",
    "    y=history.history['loss'], \n",
    "    mode='lines', \n",
    "    name='Trainingsverlust'\n",
    "))\n",
    "\n",
    "# Hinzufügen des Validierungsverlustes\n",
    "fig.add_trace(go.Scatter(\n",
    "    y=history.history['val_loss'], \n",
    "    mode='lines', \n",
    "    name='Validierungsverlust'\n",
    "))\n",
    "\n",
    "fig.update_layout(\n",
    "    title='Trainings- und Validierungsverlust {}'.format(\"aggregierte Last\"),\n",
    "    title_x=0.5,\n",
    "    legend_x=0.8,\n",
    "    xaxis_title='Epochen',\n",
    "    yaxis_title='Verlust',\n",
    "    template='plotly_white',\n",
    "    width=1000,\n",
    "    height=500\n",
    ")\n",
    "\n",
    "fig.show()"
   ]
  },
  {
   "cell_type": "code",
   "execution_count": 19,
   "metadata": {},
   "outputs": [
    {
     "name": "stdout",
     "output_type": "stream",
     "text": [
      "12/12 [==============================] - 1s 47ms/step\n",
      "Shape predicted_test (364, 96)\n",
      "Shape y_test (364, 96, 1)\n"
     ]
    }
   ],
   "source": [
    "from utils.utils import inverse_transform\n",
    "\n",
    "# Vorhersagen auf den Testdaten machen\n",
    "y_predicted = model.predict(X_test)\n",
    "print(\"Shape predicted_test {}\".format(y_predicted.shape))\n",
    "print(\"Shape y_test {}\".format(y_test.shape))\n",
    "\n",
    "actual_values, predictions, X_test_actual = inverse_transform(y_predicted, y_test, X_test, scaler, aggregated_data.columns, 1, \"P_TOT\")"
   ]
  },
  {
   "cell_type": "code",
   "execution_count": 20,
   "metadata": {},
   "outputs": [
    {
     "name": "stdout",
     "output_type": "stream",
     "text": [
      "{1: 0, 2: 0, 3: 0, 4: 0, 5: 0, 6: 0, 7: 0, 8: 0, 9: 0, 10: 0, 11: 0, 12: 0}\n"
     ]
    },
    {
     "data": {
      "text/html": [
       "<div>\n",
       "<style scoped>\n",
       "    .dataframe tbody tr th:only-of-type {\n",
       "        vertical-align: middle;\n",
       "    }\n",
       "\n",
       "    .dataframe tbody tr th {\n",
       "        vertical-align: top;\n",
       "    }\n",
       "\n",
       "    .dataframe thead th {\n",
       "        text-align: right;\n",
       "    }\n",
       "</style>\n",
       "<table border=\"1\" class=\"dataframe\">\n",
       "  <thead>\n",
       "    <tr style=\"text-align: right;\">\n",
       "      <th></th>\n",
       "      <th>Januar</th>\n",
       "      <th>Februar</th>\n",
       "      <th>März</th>\n",
       "      <th>April</th>\n",
       "      <th>Mai</th>\n",
       "      <th>Juni</th>\n",
       "      <th>Juli</th>\n",
       "      <th>August</th>\n",
       "      <th>September</th>\n",
       "      <th>Oktober</th>\n",
       "      <th>November</th>\n",
       "      <th>Dezember</th>\n",
       "      <th>Mittelwert</th>\n",
       "    </tr>\n",
       "  </thead>\n",
       "  <tbody>\n",
       "    <tr>\n",
       "      <th>RMSE</th>\n",
       "      <td>6409.73</td>\n",
       "      <td>6306.41</td>\n",
       "      <td>5498.85</td>\n",
       "      <td>3767.81</td>\n",
       "      <td>3586.44</td>\n",
       "      <td>2951.38</td>\n",
       "      <td>3144.42</td>\n",
       "      <td>2882.69</td>\n",
       "      <td>3746.40</td>\n",
       "      <td>5128.94</td>\n",
       "      <td>5461.86</td>\n",
       "      <td>5493.37</td>\n",
       "      <td>4531.53</td>\n",
       "    </tr>\n",
       "    <tr>\n",
       "      <th>MAE</th>\n",
       "      <td>5181.17</td>\n",
       "      <td>5086.37</td>\n",
       "      <td>4487.76</td>\n",
       "      <td>3132.09</td>\n",
       "      <td>3024.88</td>\n",
       "      <td>2479.29</td>\n",
       "      <td>2620.22</td>\n",
       "      <td>2358.77</td>\n",
       "      <td>3145.46</td>\n",
       "      <td>4179.22</td>\n",
       "      <td>4439.62</td>\n",
       "      <td>4396.60</td>\n",
       "      <td>3710.95</td>\n",
       "    </tr>\n",
       "    <tr>\n",
       "      <th>MAPE</th>\n",
       "      <td>0.23</td>\n",
       "      <td>0.26</td>\n",
       "      <td>0.30</td>\n",
       "      <td>0.49</td>\n",
       "      <td>0.67</td>\n",
       "      <td>0.87</td>\n",
       "      <td>1.07</td>\n",
       "      <td>1.26</td>\n",
       "      <td>1.33</td>\n",
       "      <td>1.25</td>\n",
       "      <td>1.17</td>\n",
       "      <td>1.10</td>\n",
       "      <td>0.83</td>\n",
       "    </tr>\n",
       "    <tr>\n",
       "      <th>nRMSE</th>\n",
       "      <td>15.57</td>\n",
       "      <td>16.29</td>\n",
       "      <td>16.94</td>\n",
       "      <td>18.61</td>\n",
       "      <td>20.74</td>\n",
       "      <td>24.02</td>\n",
       "      <td>27.32</td>\n",
       "      <td>29.53</td>\n",
       "      <td>30.70</td>\n",
       "      <td>29.90</td>\n",
       "      <td>28.97</td>\n",
       "      <td>28.01</td>\n",
       "      <td>23.88</td>\n",
       "    </tr>\n",
       "  </tbody>\n",
       "</table>\n",
       "</div>"
      ],
      "text/plain": [
       "        Januar  Februar     März    April      Mai     Juni     Juli   August  \\\n",
       "RMSE   6409.73  6306.41  5498.85  3767.81  3586.44  2951.38  3144.42  2882.69   \n",
       "MAE    5181.17  5086.37  4487.76  3132.09  3024.88  2479.29  2620.22  2358.77   \n",
       "MAPE      0.23     0.26     0.30     0.49     0.67     0.87     1.07     1.26   \n",
       "nRMSE    15.57    16.29    16.94    18.61    20.74    24.02    27.32    29.53   \n",
       "\n",
       "       September  Oktober  November  Dezember  Mittelwert  \n",
       "RMSE     3746.40  5128.94   5461.86   5493.37     4531.53  \n",
       "MAE      3145.46  4179.22   4439.62   4396.60     3710.95  \n",
       "MAPE        1.33     1.25      1.17      1.10        0.83  \n",
       "nRMSE      30.70    29.90     28.97     28.01       23.88  "
      ]
     },
     "execution_count": 20,
     "metadata": {},
     "output_type": "execute_result"
    }
   ],
   "source": [
    "from utils.utils import get_monthly_metrics\n",
    "\n",
    "monthly_metrics = get_monthly_metrics(X_test_actual, actual_values, predictions)\n",
    "monthly_metrics"
   ]
  },
  {
   "cell_type": "code",
   "execution_count": 26,
   "metadata": {},
   "outputs": [
    {
     "data": {
      "application/vnd.plotly.v1+json": {
       "config": {
        "plotlyServerURL": "https://plot.ly"
       },
       "data": [
        {
         "line": {
          "color": "blue"
         },
         "mode": "lines",
         "name": "Testdaten",
         "type": "scatter",
         "x": [
          "2020-01-03T23:15:12",
          "2020-01-03T23:30:12",
          "2020-01-03T23:45:12",
          "2020-01-04T00:00:12",
          "2020-01-04T00:15:12",
          "2020-01-04T00:30:12",
          "2020-01-04T00:45:12",
          "2020-01-04T01:00:12",
          "2020-01-04T01:15:12",
          "2020-01-04T01:30:12",
          "2020-01-04T01:45:12",
          "2020-01-04T02:00:12",
          "2020-01-04T02:15:12",
          "2020-01-04T02:30:12",
          "2020-01-04T02:45:12",
          "2020-01-04T03:00:12",
          "2020-01-04T03:15:12",
          "2020-01-04T03:30:12",
          "2020-01-04T03:45:12",
          "2020-01-04T04:00:12",
          "2020-01-04T04:15:12",
          "2020-01-04T04:30:12",
          "2020-01-04T04:45:12",
          "2020-01-04T05:00:12",
          "2020-01-04T05:15:12",
          "2020-01-04T05:30:12",
          "2020-01-04T05:45:12",
          "2020-01-04T06:00:12",
          "2020-01-04T06:15:12",
          "2020-01-04T06:30:12",
          "2020-01-04T06:45:12",
          "2020-01-04T07:00:12",
          "2020-01-04T07:15:12",
          "2020-01-04T07:30:12",
          "2020-01-04T07:45:12",
          "2020-01-04T08:00:12",
          "2020-01-04T08:15:12",
          "2020-01-04T08:30:12",
          "2020-01-04T08:45:12",
          "2020-01-04T09:00:12",
          "2020-01-04T09:15:12",
          "2020-01-04T09:30:12",
          "2020-01-04T09:45:12",
          "2020-01-04T10:00:12",
          "2020-01-04T10:15:12",
          "2020-01-04T10:30:12",
          "2020-01-04T10:45:12",
          "2020-01-04T11:00:12",
          "2020-01-04T11:15:12",
          "2020-01-04T11:30:12",
          "2020-01-04T11:45:12",
          "2020-01-04T12:00:12",
          "2020-01-04T12:15:12",
          "2020-01-04T12:30:12",
          "2020-01-04T12:45:12",
          "2020-01-04T13:00:12",
          "2020-01-04T13:15:12",
          "2020-01-04T13:30:12",
          "2020-01-04T13:45:12",
          "2020-01-04T14:00:12",
          "2020-01-04T14:15:12",
          "2020-01-04T14:30:12",
          "2020-01-04T14:45:12",
          "2020-01-04T15:00:12",
          "2020-01-04T15:15:12",
          "2020-01-04T15:30:12",
          "2020-01-04T15:45:12",
          "2020-01-04T16:00:12",
          "2020-01-04T16:15:12",
          "2020-01-04T16:30:12",
          "2020-01-04T16:45:12",
          "2020-01-04T17:00:12",
          "2020-01-04T17:15:12",
          "2020-01-04T17:30:12",
          "2020-01-04T17:45:12",
          "2020-01-04T18:00:12",
          "2020-01-04T18:15:12",
          "2020-01-04T18:30:12",
          "2020-01-04T18:45:12",
          "2020-01-04T19:00:12",
          "2020-01-04T19:15:12",
          "2020-01-04T19:30:12",
          "2020-01-04T19:45:12",
          "2020-01-04T20:00:12",
          "2020-01-04T20:15:12",
          "2020-01-04T20:30:12",
          "2020-01-04T20:45:12",
          "2020-01-04T21:00:12",
          "2020-01-04T21:15:12",
          "2020-01-04T21:30:12",
          "2020-01-04T21:45:12",
          "2020-01-04T22:00:12",
          "2020-01-04T22:15:12",
          "2020-01-04T22:30:12",
          "2020-01-04T22:45:12",
          "2020-01-04T23:00:12"
         ],
         "y": [
          13471.55989702511,
          28023.67546845968,
          31843.16788417657,
          15260.84247901883,
          27513.859575607035,
          23626.975985670513,
          19830.6393070443,
          32207.624033640306,
          24726.067862310883,
          28498.89153419187,
          19830.487941692867,
          29245.39699234735,
          24092.495183876003,
          15563.924325784787,
          28793.57734647091,
          34261.41867878831,
          23367.022000583413,
          32186.221051989833,
          25288.220597877327,
          30780.0566976799,
          28457.854529932723,
          30530.58762845045,
          28062.37441157243,
          29240.34146865149,
          22027.174640270678,
          25968.675433437347,
          28182.78535103138,
          42474.80458775086,
          30819.764216189134,
          30750.536106842992,
          29365.64036285328,
          38929.07873945145,
          36154.40720092508,
          33531.549972157285,
          36490.98999397688,
          32595.07665064739,
          37427.319459121456,
          38439.25413886203,
          36307.60158328731,
          36061.028611434594,
          40325.40078903017,
          37385.19325666767,
          47040.71709630755,
          33151.27120334651,
          31990.781904235366,
          36742.729148268016,
          35110.28347381269,
          30025.18227690845,
          30430.188532164062,
          37616.42576512307,
          31101.469757965773,
          33416.031729958704,
          46770.95005201406,
          26940.207815849328,
          33977.215411108155,
          30358.72195453983,
          28913.925052362683,
          20906.446608200866,
          30674.968832387287,
          29087.226128248236,
          37604.99945953407,
          32437.313643056572,
          29351.1124507942,
          23894.298262172997,
          39006.25688903101,
          19359.204213419544,
          31970.912336588954,
          38409.34624242617,
          30059.73942137106,
          26446.656386894378,
          28763.389641500275,
          36889.68553922816,
          26451.3301379284,
          33573.627168596504,
          24663.92349332782,
          27821.770688461293,
          37882.27707076909,
          25109.79286053284,
          26474.187491623958,
          26710.875476087615,
          43048.79148541461,
          33261.98685611795,
          32257.28293478413,
          25916.71641128743,
          24916.51867203462,
          34822.87110259826,
          32396.796734887463,
          22642.00330855491,
          26342.068066782467,
          30660.402980187904,
          17889.626866685045,
          26123.34711001276,
          36666.131166667314,
          28448.544968004986,
          24302.741261804716,
          22996.98074629871
         ]
        },
        {
         "line": {
          "color": "red",
          "dash": "dash"
         },
         "mode": "lines",
         "name": "Vorhersagedaten",
         "type": "scatter",
         "x": [
          "2020-01-03T23:15:12",
          "2020-01-03T23:30:12",
          "2020-01-03T23:45:12",
          "2020-01-04T00:00:12",
          "2020-01-04T00:15:12",
          "2020-01-04T00:30:12",
          "2020-01-04T00:45:12",
          "2020-01-04T01:00:12",
          "2020-01-04T01:15:12",
          "2020-01-04T01:30:12",
          "2020-01-04T01:45:12",
          "2020-01-04T02:00:12",
          "2020-01-04T02:15:12",
          "2020-01-04T02:30:12",
          "2020-01-04T02:45:12",
          "2020-01-04T03:00:12",
          "2020-01-04T03:15:12",
          "2020-01-04T03:30:12",
          "2020-01-04T03:45:12",
          "2020-01-04T04:00:12",
          "2020-01-04T04:15:12",
          "2020-01-04T04:30:12",
          "2020-01-04T04:45:12",
          "2020-01-04T05:00:12",
          "2020-01-04T05:15:12",
          "2020-01-04T05:30:12",
          "2020-01-04T05:45:12",
          "2020-01-04T06:00:12",
          "2020-01-04T06:15:12",
          "2020-01-04T06:30:12",
          "2020-01-04T06:45:12",
          "2020-01-04T07:00:12",
          "2020-01-04T07:15:12",
          "2020-01-04T07:30:12",
          "2020-01-04T07:45:12",
          "2020-01-04T08:00:12",
          "2020-01-04T08:15:12",
          "2020-01-04T08:30:12",
          "2020-01-04T08:45:12",
          "2020-01-04T09:00:12",
          "2020-01-04T09:15:12",
          "2020-01-04T09:30:12",
          "2020-01-04T09:45:12",
          "2020-01-04T10:00:12",
          "2020-01-04T10:15:12",
          "2020-01-04T10:30:12",
          "2020-01-04T10:45:12",
          "2020-01-04T11:00:12",
          "2020-01-04T11:15:12",
          "2020-01-04T11:30:12",
          "2020-01-04T11:45:12",
          "2020-01-04T12:00:12",
          "2020-01-04T12:15:12",
          "2020-01-04T12:30:12",
          "2020-01-04T12:45:12",
          "2020-01-04T13:00:12",
          "2020-01-04T13:15:12",
          "2020-01-04T13:30:12",
          "2020-01-04T13:45:12",
          "2020-01-04T14:00:12",
          "2020-01-04T14:15:12",
          "2020-01-04T14:30:12",
          "2020-01-04T14:45:12",
          "2020-01-04T15:00:12",
          "2020-01-04T15:15:12",
          "2020-01-04T15:30:12",
          "2020-01-04T15:45:12",
          "2020-01-04T16:00:12",
          "2020-01-04T16:15:12",
          "2020-01-04T16:30:12",
          "2020-01-04T16:45:12",
          "2020-01-04T17:00:12",
          "2020-01-04T17:15:12",
          "2020-01-04T17:30:12",
          "2020-01-04T17:45:12",
          "2020-01-04T18:00:12",
          "2020-01-04T18:15:12",
          "2020-01-04T18:30:12",
          "2020-01-04T18:45:12",
          "2020-01-04T19:00:12",
          "2020-01-04T19:15:12",
          "2020-01-04T19:30:12",
          "2020-01-04T19:45:12",
          "2020-01-04T20:00:12",
          "2020-01-04T20:15:12",
          "2020-01-04T20:30:12",
          "2020-01-04T20:45:12",
          "2020-01-04T21:00:12",
          "2020-01-04T21:15:12",
          "2020-01-04T21:30:12",
          "2020-01-04T21:45:12",
          "2020-01-04T22:00:12",
          "2020-01-04T22:15:12",
          "2020-01-04T22:30:12",
          "2020-01-04T22:45:12",
          "2020-01-04T23:00:12"
         ],
         "y": [
          24942.851500666184,
          22364.753362005533,
          21619.593988411347,
          22918.744224888513,
          22594.74333086589,
          21964.694342961986,
          22053.555684497212,
          20153.469194444748,
          23693.734824218365,
          20645.906922197784,
          23357.882378867464,
          23203.102414808258,
          22059.43640624474,
          22287.745152637763,
          23313.147791767602,
          22119.174737996687,
          24453.738277707518,
          24329.17605456335,
          22956.441706381087,
          24614.975969814746,
          25304.04558848314,
          28766.74892475659,
          26944.134620371064,
          25121.81909459045,
          28290.598583069353,
          28711.03224787714,
          29727.3442713056,
          32137.025336725586,
          32270.596762353394,
          29305.15587500863,
          28616.858496279398,
          33713.98987933919,
          33928.308989413745,
          35439.143867472914,
          32487.9795387577,
          32903.356099030454,
          35427.146878940126,
          32384.960991950975,
          34482.192355232524,
          33832.04220674242,
          33931.13869154495,
          31950.23654096103,
          34731.93490964002,
          32643.409227719658,
          30826.277273608437,
          29217.94730083551,
          30996.426156170186,
          31244.46456594224,
          30786.985515803397,
          30126.717996564857,
          30518.770855584116,
          29921.822268838965,
          31858.552611070903,
          28518.887568972634,
          28760.54413097728,
          29627.277151246897,
          28747.69823180513,
          28265.728821098364,
          29949.532798815413,
          31344.277170893056,
          32385.762477414955,
          32203.12654617479,
          32791.82789492079,
          34228.71902036155,
          33138.640298302766,
          31677.97177076402,
          32210.371532134177,
          33716.03864691575,
          33209.011354375645,
          29957.31685093499,
          32388.879892276815,
          34144.61521433685,
          32055.597891431684,
          29321.274111282226,
          28353.425874577933,
          28165.696479501607,
          29399.955638921434,
          29788.228711462645,
          27617.31285318811,
          28043.733155968446,
          27856.109677117143,
          25996.206538166924,
          25312.00274249286,
          23444.193036386663,
          24338.782814256825,
          26488.072002137,
          27597.588722746204,
          26482.524047036746,
          26827.089287525145,
          26541.542306542462,
          24313.925698999272,
          24530.054079514688,
          25106.752116371183,
          23226.12022368053,
          24746.01251981832,
          23687.218605120703
         ]
        }
       ],
       "layout": {
        "legend": {
         "orientation": "h",
         "x": 0.32,
         "y": 1.1
        },
        "template": {
         "data": {
          "bar": [
           {
            "error_x": {
             "color": "#2a3f5f"
            },
            "error_y": {
             "color": "#2a3f5f"
            },
            "marker": {
             "line": {
              "color": "white",
              "width": 0.5
             },
             "pattern": {
              "fillmode": "overlay",
              "size": 10,
              "solidity": 0.2
             }
            },
            "type": "bar"
           }
          ],
          "barpolar": [
           {
            "marker": {
             "line": {
              "color": "white",
              "width": 0.5
             },
             "pattern": {
              "fillmode": "overlay",
              "size": 10,
              "solidity": 0.2
             }
            },
            "type": "barpolar"
           }
          ],
          "carpet": [
           {
            "aaxis": {
             "endlinecolor": "#2a3f5f",
             "gridcolor": "#C8D4E3",
             "linecolor": "#C8D4E3",
             "minorgridcolor": "#C8D4E3",
             "startlinecolor": "#2a3f5f"
            },
            "baxis": {
             "endlinecolor": "#2a3f5f",
             "gridcolor": "#C8D4E3",
             "linecolor": "#C8D4E3",
             "minorgridcolor": "#C8D4E3",
             "startlinecolor": "#2a3f5f"
            },
            "type": "carpet"
           }
          ],
          "choropleth": [
           {
            "colorbar": {
             "outlinewidth": 0,
             "ticks": ""
            },
            "type": "choropleth"
           }
          ],
          "contour": [
           {
            "colorbar": {
             "outlinewidth": 0,
             "ticks": ""
            },
            "colorscale": [
             [
              0,
              "#0d0887"
             ],
             [
              0.1111111111111111,
              "#46039f"
             ],
             [
              0.2222222222222222,
              "#7201a8"
             ],
             [
              0.3333333333333333,
              "#9c179e"
             ],
             [
              0.4444444444444444,
              "#bd3786"
             ],
             [
              0.5555555555555556,
              "#d8576b"
             ],
             [
              0.6666666666666666,
              "#ed7953"
             ],
             [
              0.7777777777777778,
              "#fb9f3a"
             ],
             [
              0.8888888888888888,
              "#fdca26"
             ],
             [
              1,
              "#f0f921"
             ]
            ],
            "type": "contour"
           }
          ],
          "contourcarpet": [
           {
            "colorbar": {
             "outlinewidth": 0,
             "ticks": ""
            },
            "type": "contourcarpet"
           }
          ],
          "heatmap": [
           {
            "colorbar": {
             "outlinewidth": 0,
             "ticks": ""
            },
            "colorscale": [
             [
              0,
              "#0d0887"
             ],
             [
              0.1111111111111111,
              "#46039f"
             ],
             [
              0.2222222222222222,
              "#7201a8"
             ],
             [
              0.3333333333333333,
              "#9c179e"
             ],
             [
              0.4444444444444444,
              "#bd3786"
             ],
             [
              0.5555555555555556,
              "#d8576b"
             ],
             [
              0.6666666666666666,
              "#ed7953"
             ],
             [
              0.7777777777777778,
              "#fb9f3a"
             ],
             [
              0.8888888888888888,
              "#fdca26"
             ],
             [
              1,
              "#f0f921"
             ]
            ],
            "type": "heatmap"
           }
          ],
          "heatmapgl": [
           {
            "colorbar": {
             "outlinewidth": 0,
             "ticks": ""
            },
            "colorscale": [
             [
              0,
              "#0d0887"
             ],
             [
              0.1111111111111111,
              "#46039f"
             ],
             [
              0.2222222222222222,
              "#7201a8"
             ],
             [
              0.3333333333333333,
              "#9c179e"
             ],
             [
              0.4444444444444444,
              "#bd3786"
             ],
             [
              0.5555555555555556,
              "#d8576b"
             ],
             [
              0.6666666666666666,
              "#ed7953"
             ],
             [
              0.7777777777777778,
              "#fb9f3a"
             ],
             [
              0.8888888888888888,
              "#fdca26"
             ],
             [
              1,
              "#f0f921"
             ]
            ],
            "type": "heatmapgl"
           }
          ],
          "histogram": [
           {
            "marker": {
             "pattern": {
              "fillmode": "overlay",
              "size": 10,
              "solidity": 0.2
             }
            },
            "type": "histogram"
           }
          ],
          "histogram2d": [
           {
            "colorbar": {
             "outlinewidth": 0,
             "ticks": ""
            },
            "colorscale": [
             [
              0,
              "#0d0887"
             ],
             [
              0.1111111111111111,
              "#46039f"
             ],
             [
              0.2222222222222222,
              "#7201a8"
             ],
             [
              0.3333333333333333,
              "#9c179e"
             ],
             [
              0.4444444444444444,
              "#bd3786"
             ],
             [
              0.5555555555555556,
              "#d8576b"
             ],
             [
              0.6666666666666666,
              "#ed7953"
             ],
             [
              0.7777777777777778,
              "#fb9f3a"
             ],
             [
              0.8888888888888888,
              "#fdca26"
             ],
             [
              1,
              "#f0f921"
             ]
            ],
            "type": "histogram2d"
           }
          ],
          "histogram2dcontour": [
           {
            "colorbar": {
             "outlinewidth": 0,
             "ticks": ""
            },
            "colorscale": [
             [
              0,
              "#0d0887"
             ],
             [
              0.1111111111111111,
              "#46039f"
             ],
             [
              0.2222222222222222,
              "#7201a8"
             ],
             [
              0.3333333333333333,
              "#9c179e"
             ],
             [
              0.4444444444444444,
              "#bd3786"
             ],
             [
              0.5555555555555556,
              "#d8576b"
             ],
             [
              0.6666666666666666,
              "#ed7953"
             ],
             [
              0.7777777777777778,
              "#fb9f3a"
             ],
             [
              0.8888888888888888,
              "#fdca26"
             ],
             [
              1,
              "#f0f921"
             ]
            ],
            "type": "histogram2dcontour"
           }
          ],
          "mesh3d": [
           {
            "colorbar": {
             "outlinewidth": 0,
             "ticks": ""
            },
            "type": "mesh3d"
           }
          ],
          "parcoords": [
           {
            "line": {
             "colorbar": {
              "outlinewidth": 0,
              "ticks": ""
             }
            },
            "type": "parcoords"
           }
          ],
          "pie": [
           {
            "automargin": true,
            "type": "pie"
           }
          ],
          "scatter": [
           {
            "fillpattern": {
             "fillmode": "overlay",
             "size": 10,
             "solidity": 0.2
            },
            "type": "scatter"
           }
          ],
          "scatter3d": [
           {
            "line": {
             "colorbar": {
              "outlinewidth": 0,
              "ticks": ""
             }
            },
            "marker": {
             "colorbar": {
              "outlinewidth": 0,
              "ticks": ""
             }
            },
            "type": "scatter3d"
           }
          ],
          "scattercarpet": [
           {
            "marker": {
             "colorbar": {
              "outlinewidth": 0,
              "ticks": ""
             }
            },
            "type": "scattercarpet"
           }
          ],
          "scattergeo": [
           {
            "marker": {
             "colorbar": {
              "outlinewidth": 0,
              "ticks": ""
             }
            },
            "type": "scattergeo"
           }
          ],
          "scattergl": [
           {
            "marker": {
             "colorbar": {
              "outlinewidth": 0,
              "ticks": ""
             }
            },
            "type": "scattergl"
           }
          ],
          "scattermapbox": [
           {
            "marker": {
             "colorbar": {
              "outlinewidth": 0,
              "ticks": ""
             }
            },
            "type": "scattermapbox"
           }
          ],
          "scatterpolar": [
           {
            "marker": {
             "colorbar": {
              "outlinewidth": 0,
              "ticks": ""
             }
            },
            "type": "scatterpolar"
           }
          ],
          "scatterpolargl": [
           {
            "marker": {
             "colorbar": {
              "outlinewidth": 0,
              "ticks": ""
             }
            },
            "type": "scatterpolargl"
           }
          ],
          "scatterternary": [
           {
            "marker": {
             "colorbar": {
              "outlinewidth": 0,
              "ticks": ""
             }
            },
            "type": "scatterternary"
           }
          ],
          "surface": [
           {
            "colorbar": {
             "outlinewidth": 0,
             "ticks": ""
            },
            "colorscale": [
             [
              0,
              "#0d0887"
             ],
             [
              0.1111111111111111,
              "#46039f"
             ],
             [
              0.2222222222222222,
              "#7201a8"
             ],
             [
              0.3333333333333333,
              "#9c179e"
             ],
             [
              0.4444444444444444,
              "#bd3786"
             ],
             [
              0.5555555555555556,
              "#d8576b"
             ],
             [
              0.6666666666666666,
              "#ed7953"
             ],
             [
              0.7777777777777778,
              "#fb9f3a"
             ],
             [
              0.8888888888888888,
              "#fdca26"
             ],
             [
              1,
              "#f0f921"
             ]
            ],
            "type": "surface"
           }
          ],
          "table": [
           {
            "cells": {
             "fill": {
              "color": "#EBF0F8"
             },
             "line": {
              "color": "white"
             }
            },
            "header": {
             "fill": {
              "color": "#C8D4E3"
             },
             "line": {
              "color": "white"
             }
            },
            "type": "table"
           }
          ]
         },
         "layout": {
          "annotationdefaults": {
           "arrowcolor": "#2a3f5f",
           "arrowhead": 0,
           "arrowwidth": 1
          },
          "autotypenumbers": "strict",
          "coloraxis": {
           "colorbar": {
            "outlinewidth": 0,
            "ticks": ""
           }
          },
          "colorscale": {
           "diverging": [
            [
             0,
             "#8e0152"
            ],
            [
             0.1,
             "#c51b7d"
            ],
            [
             0.2,
             "#de77ae"
            ],
            [
             0.3,
             "#f1b6da"
            ],
            [
             0.4,
             "#fde0ef"
            ],
            [
             0.5,
             "#f7f7f7"
            ],
            [
             0.6,
             "#e6f5d0"
            ],
            [
             0.7,
             "#b8e186"
            ],
            [
             0.8,
             "#7fbc41"
            ],
            [
             0.9,
             "#4d9221"
            ],
            [
             1,
             "#276419"
            ]
           ],
           "sequential": [
            [
             0,
             "#0d0887"
            ],
            [
             0.1111111111111111,
             "#46039f"
            ],
            [
             0.2222222222222222,
             "#7201a8"
            ],
            [
             0.3333333333333333,
             "#9c179e"
            ],
            [
             0.4444444444444444,
             "#bd3786"
            ],
            [
             0.5555555555555556,
             "#d8576b"
            ],
            [
             0.6666666666666666,
             "#ed7953"
            ],
            [
             0.7777777777777778,
             "#fb9f3a"
            ],
            [
             0.8888888888888888,
             "#fdca26"
            ],
            [
             1,
             "#f0f921"
            ]
           ],
           "sequentialminus": [
            [
             0,
             "#0d0887"
            ],
            [
             0.1111111111111111,
             "#46039f"
            ],
            [
             0.2222222222222222,
             "#7201a8"
            ],
            [
             0.3333333333333333,
             "#9c179e"
            ],
            [
             0.4444444444444444,
             "#bd3786"
            ],
            [
             0.5555555555555556,
             "#d8576b"
            ],
            [
             0.6666666666666666,
             "#ed7953"
            ],
            [
             0.7777777777777778,
             "#fb9f3a"
            ],
            [
             0.8888888888888888,
             "#fdca26"
            ],
            [
             1,
             "#f0f921"
            ]
           ]
          },
          "colorway": [
           "#636efa",
           "#EF553B",
           "#00cc96",
           "#ab63fa",
           "#FFA15A",
           "#19d3f3",
           "#FF6692",
           "#B6E880",
           "#FF97FF",
           "#FECB52"
          ],
          "font": {
           "color": "#2a3f5f"
          },
          "geo": {
           "bgcolor": "white",
           "lakecolor": "white",
           "landcolor": "white",
           "showlakes": true,
           "showland": true,
           "subunitcolor": "#C8D4E3"
          },
          "hoverlabel": {
           "align": "left"
          },
          "hovermode": "closest",
          "mapbox": {
           "style": "light"
          },
          "paper_bgcolor": "white",
          "plot_bgcolor": "white",
          "polar": {
           "angularaxis": {
            "gridcolor": "#EBF0F8",
            "linecolor": "#EBF0F8",
            "ticks": ""
           },
           "bgcolor": "white",
           "radialaxis": {
            "gridcolor": "#EBF0F8",
            "linecolor": "#EBF0F8",
            "ticks": ""
           }
          },
          "scene": {
           "xaxis": {
            "backgroundcolor": "white",
            "gridcolor": "#DFE8F3",
            "gridwidth": 2,
            "linecolor": "#EBF0F8",
            "showbackground": true,
            "ticks": "",
            "zerolinecolor": "#EBF0F8"
           },
           "yaxis": {
            "backgroundcolor": "white",
            "gridcolor": "#DFE8F3",
            "gridwidth": 2,
            "linecolor": "#EBF0F8",
            "showbackground": true,
            "ticks": "",
            "zerolinecolor": "#EBF0F8"
           },
           "zaxis": {
            "backgroundcolor": "white",
            "gridcolor": "#DFE8F3",
            "gridwidth": 2,
            "linecolor": "#EBF0F8",
            "showbackground": true,
            "ticks": "",
            "zerolinecolor": "#EBF0F8"
           }
          },
          "shapedefaults": {
           "line": {
            "color": "#2a3f5f"
           }
          },
          "ternary": {
           "aaxis": {
            "gridcolor": "#DFE8F3",
            "linecolor": "#A2B1C6",
            "ticks": ""
           },
           "baxis": {
            "gridcolor": "#DFE8F3",
            "linecolor": "#A2B1C6",
            "ticks": ""
           },
           "bgcolor": "white",
           "caxis": {
            "gridcolor": "#DFE8F3",
            "linecolor": "#A2B1C6",
            "ticks": ""
           }
          },
          "title": {
           "x": 0.05
          },
          "xaxis": {
           "automargin": true,
           "gridcolor": "#EBF0F8",
           "linecolor": "#EBF0F8",
           "ticks": "",
           "title": {
            "standoff": 15
           },
           "zerolinecolor": "#EBF0F8",
           "zerolinewidth": 2
          },
          "yaxis": {
           "automargin": true,
           "gridcolor": "#EBF0F8",
           "linecolor": "#EBF0F8",
           "ticks": "",
           "title": {
            "standoff": 15
           },
           "zerolinecolor": "#EBF0F8",
           "zerolinewidth": 2
          }
         }
        },
        "title": {
         "text": "Vergleich der Zeitreihen für 03-01-2020"
        },
        "xaxis": {
         "title": {
          "text": "Zeit"
         }
        },
        "yaxis": {
         "title": {
          "text": "Last P (W)"
         }
        }
       }
      }
     },
     "metadata": {},
     "output_type": "display_data"
    },
    {
     "name": "stdout",
     "output_type": "stream",
     "text": [
      "RMSE Original vs. Vorhersage: 5725.40\n"
     ]
    }
   ],
   "source": [
    "from utils.plot_utils import plot_results\n",
    "\n",
    "plot_results(actual_values, predictions, X_test_actual, 1, traces={\"actual\":True, \"prediction\":True, \"smoothing\":False, \"boosting\":False},  legend_x=0.32)"
   ]
  }
 ],
 "metadata": {
  "kernelspec": {
   "display_name": "baseline",
   "language": "python",
   "name": "python3"
  },
  "language_info": {
   "codemirror_mode": {
    "name": "ipython",
    "version": 3
   },
   "file_extension": ".py",
   "mimetype": "text/x-python",
   "name": "python",
   "nbconvert_exporter": "python",
   "pygments_lexer": "ipython3",
   "version": "3.9.16"
  }
 },
 "nbformat": 4,
 "nbformat_minor": 2
}
