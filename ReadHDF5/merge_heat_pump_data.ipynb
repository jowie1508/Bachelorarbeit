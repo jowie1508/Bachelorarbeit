{
 "cells": [
  {
   "cell_type": "markdown",
   "metadata": {},
   "source": [
    "# Heat pump data "
   ]
  },
  {
   "cell_type": "markdown",
   "metadata": {},
   "source": [
    "### Read HDF5 file, convert to pandas format, concat data for 2018-2020"
   ]
  },
  {
   "cell_type": "markdown",
   "metadata": {},
   "source": [
    "This file contains the code to"
   ]
  },
  {
   "cell_type": "markdown",
   "metadata": {},
   "source": [
    "1) Read in the load pump data for 36 houses in hdf5 format, each year stored in a seperate file"
   ]
  },
  {
   "cell_type": "markdown",
   "metadata": {},
   "source": [
    "2) Convert the data format to a python dictionary containing the load data of each house over the available time span"
   ]
  },
  {
   "cell_type": "markdown",
   "metadata": {},
   "source": [
    "         The dictionary is structured as followed: "
   ]
  },
  {
   "cell_type": "markdown",
   "metadata": {},
   "source": [
    "        {"
   ]
  },
  {
   "cell_type": "markdown",
   "metadata": {},
   "source": [
    "         'House 1': dataframe containing load data of house 1,"
   ]
  },
  {
   "cell_type": "markdown",
   "metadata": {},
   "source": [
    "         'House 2': dataframe containing load data of house 2,"
   ]
  },
  {
   "cell_type": "markdown",
   "metadata": {},
   "source": [
    "             ..."
   ]
  },
  {
   "cell_type": "markdown",
   "metadata": {},
   "source": [
    "         }"
   ]
  },
  {
   "cell_type": "markdown",
   "metadata": {},
   "source": [
    "3) Save the dictionary to a pickle file at 'Data/heatpump/data_heatpump.pkl'"
   ]
  },
  {
   "cell_type": "markdown",
   "metadata": {},
   "source": [
    "(4. Additional code used to check code functionality and data quality)"
   ]
  },
  {
   "cell_type": "markdown",
   "metadata": {},
   "source": [
    "-------------"
   ]
  },
  {
   "cell_type": "markdown",
   "metadata": {},
   "source": [
    "#### Imports"
   ]
  },
  {
   "cell_type": "code",
   "execution_count": 62,
   "metadata": {},
   "outputs": [],
   "source": [
    "import h5py\n",
    "import pandas as pd\n",
    "import numpy as np\n",
    "import pickle \n",
    "from datetime import datetime\n",
    "import math\n",
    "\n",
    "pd.options.mode.chained_assignment = None "
   ]
  },
  {
   "cell_type": "markdown",
   "metadata": {},
   "source": [
    "#### Functions to convert data"
   ]
  },
  {
   "cell_type": "code",
   "execution_count": 63,
   "metadata": {},
   "outputs": [],
   "source": [
    "def hdf_to_pandas(hdf_dataset):\n",
    "    column_type_dict = {x:str(y[0]) for x,y in hdf_dataset.dtype.fields.items()}\n",
    "    column_list = []\n",
    "    for index in column_type_dict:\n",
    "        column_list.append(index)\n",
    "    list_of_rows = []\n",
    "    for line in range(0, hdf_dataset.size):\n",
    "        list_of_rows.append(np.asarray(hdf_dataset[line]).tolist())\n",
    "    return pd.DataFrame(data=list_of_rows, columns=column_list)\n",
    "\n",
    "def first_n_digits(num, n):\n",
    "    return num // 10 ** (int(math.log(num, 10)) - n + 1)"
   ]
  },
  {
   "cell_type": "markdown",
   "metadata": {},
   "source": [
    "______________"
   ]
  },
  {
   "cell_type": "markdown",
   "metadata": {},
   "source": [
    "#### load data for 2018"
   ]
  },
  {
   "cell_type": "code",
   "execution_count": 64,
   "metadata": {},
   "outputs": [],
   "source": [
    "file = h5py.File('Data/HDF5data/heatpumps/2018_data_15min.hdf5', 'r')\n",
    "dset_no_pv = file['NO_PV']\n",
    "dset_pv = file[\"WITH_PV\"]\n",
    "\n",
    "df_dict_2018 = {}\n",
    "for key in dset_no_pv.keys():\n",
    "    #dset_house = dset_no_pv[key]\n",
    "    df_dict_2018[key] = hdf_to_pandas(dset_no_pv[key][\"HEATPUMP\"]['table'])\n",
    "for key in dset_pv.keys():\n",
    "    df_dict_2018[key] = hdf_to_pandas(dset_pv[key][\"HEATPUMP\"]['table'])"
   ]
  },
  {
   "cell_type": "markdown",
   "metadata": {},
   "source": [
    "#### load data for 2019"
   ]
  },
  {
   "cell_type": "code",
   "execution_count": 67,
   "metadata": {},
   "outputs": [],
   "source": [
    "file = h5py.File('Data/HDF5data/heatpumps/2019_data_15min.hdf5', 'r')\n",
    "dset_no_pv = file['NO_PV']\n",
    "dset_pv = file[\"WITH_PV\"]\n",
    "\n",
    "df_dict_2019 = {}\n",
    "for key in dset_no_pv.keys():\n",
    "    #dset_house = dset_no_pv[key]\n",
    "    df_dict_2019[key] = hdf_to_pandas(dset_no_pv[key][\"HEATPUMP\"]['table'])\n",
    "for key in dset_pv.keys():\n",
    "    df_dict_2019[key] = hdf_to_pandas(dset_pv[key][\"HEATPUMP\"]['table'])"
   ]
  },
  {
   "cell_type": "markdown",
   "metadata": {},
   "source": [
    "#### load data for 2020"
   ]
  },
  {
   "cell_type": "code",
   "execution_count": 70,
   "metadata": {},
   "outputs": [],
   "source": [
    "file = h5py.File('Data/HDF5data/heatpumps/2020_data_15min.hdf5', 'r')\n",
    "dset_no_pv = file['NO_PV']\n",
    "dset_pv = file[\"WITH_PV\"]\n",
    "\n",
    "df_dict_2020 = {}\n",
    "for key in dset_no_pv.keys():\n",
    "    #dset_house = dset_no_pv[key]\n",
    "    df_dict_2020[key] = hdf_to_pandas(dset_no_pv[key][\"HEATPUMP\"]['table'])\n",
    "for key in dset_pv.keys():\n",
    "    df_dict_2020[key] = hdf_to_pandas(dset_pv[key][\"HEATPUMP\"]['table'])"
   ]
  },
  {
   "cell_type": "markdown",
   "metadata": {},
   "source": [
    "#### concat load data, 2018-2020 for 36 houses"
   ]
  },
  {
   "cell_type": "code",
   "execution_count": 73,
   "metadata": {},
   "outputs": [
    {
     "name": "stdout",
     "output_type": "stream",
     "text": [
      "data for 36 houses\n"
     ]
    }
   ],
   "source": [
    "df_dict = {}\n",
    "\n",
    "for key_house in df_dict_2020:\n",
    "    df_dict[key_house] = pd.concat([df_dict_2018[key_house], df_dict_2019[key_house], df_dict_2020[key_house]])\n",
    "\n",
    "for key_house in df_dict:\n",
    "    if len(df_dict[key_house]) != 105216:\n",
    "        print(\"issue with \" + str(key_house))\n",
    "\n",
    "print(\"data for {} houses\".format(len(df_dict)))"
   ]
  },
  {
   "cell_type": "markdown",
   "metadata": {},
   "source": [
    "#### save to pickle file"
   ]
  },
  {
   "cell_type": "code",
   "execution_count": 74,
   "metadata": {},
   "outputs": [],
   "source": [
    "with open('Data/heatpump/data_heatpump.pkl', 'wb') as f:\n",
    "    pickle.dump(df_dict, f)"
   ]
  },
  {
   "cell_type": "markdown",
   "metadata": {},
   "source": [
    "#### read saved data"
   ]
  },
  {
   "cell_type": "code",
   "execution_count": null,
   "metadata": {},
   "outputs": [],
   "source": [
    "with open('Data/heatpump/data_heatpump.pkl', 'rb') as f:\n",
    "    weather_dict = pickle.load(f)"
   ]
  },
  {
   "cell_type": "markdown",
   "metadata": {},
   "source": [
    "-----------------------------"
   ]
  },
  {
   "cell_type": "markdown",
   "metadata": {},
   "source": [
    "## Additional"
   ]
  },
  {
   "cell_type": "markdown",
   "metadata": {},
   "source": [
    "#### check data"
   ]
  },
  {
   "cell_type": "code",
   "execution_count": 65,
   "metadata": {},
   "outputs": [
    {
     "name": "stdout",
     "output_type": "stream",
     "text": [
      "all indices have the same size (1,35040)\n"
     ]
    }
   ],
   "source": [
    "checker = False\n",
    "for index in df_dict_2018:\n",
    "    if (len(df_dict_2018[index]['index'])) != 35040:\n",
    "        print(\"issue with index \" + str(index))\n",
    "        checker = True\n",
    "if not checker:\n",
    "    print('all indices have the same size (1,35040)')"
   ]
  },
  {
   "cell_type": "code",
   "execution_count": 75,
   "metadata": {},
   "outputs": [
    {
     "name": "stdout",
     "output_type": "stream",
     "text": [
      "time stamps continues 15 min intervalls\n"
     ]
    }
   ],
   "source": [
    "for house in df_dict:\n",
    "    df_dict[house]['time_difference'] = df_dict[house]['index'] - df_dict[house]['index'].shift(1)\n",
    "    if df_dict[house]['time_difference'].value_counts()[900.0] != 105215:\n",
    "        print(house)\n",
    "else:\n",
    "    print('time stamps continues 15 min intervalls')"
   ]
  }
 ],
 "metadata": {
  "kernelspec": {
   "display_name": "Python 3.11.3 64-bit",
   "language": "python",
   "name": "python3"
  },
  "language_info": {
   "codemirror_mode": {
    "name": "ipython",
    "version": 3
   },
   "file_extension": ".py",
   "mimetype": "text/x-python",
   "name": "python",
   "nbconvert_exporter": "python",
   "pygments_lexer": "ipython3",
   "version": "3.11.3"
  },
  "orig_nbformat": 4,
  "vscode": {
   "interpreter": {
    "hash": "b0fa6594d8f4cbf19f97940f81e996739fb7646882a419484c72d19e05852a7e"
   }
  }
 },
 "nbformat": 4,
 "nbformat_minor": 2
}
