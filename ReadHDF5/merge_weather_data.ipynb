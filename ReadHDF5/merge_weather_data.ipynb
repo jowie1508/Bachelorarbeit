{
 "cells": [
  {
   "cell_type": "markdown",
   "metadata": {},
   "source": [
    "# Weather data"
   ]
  },
  {
   "cell_type": "markdown",
   "metadata": {},
   "source": [
    "### Read HDF5 file, convert to pandas format, concat data for 2018-2020"
   ]
  },
  {
   "cell_type": "markdown",
   "metadata": {},
   "source": [
    "This file contains the code to"
   ]
  },
  {
   "cell_type": "markdown",
   "metadata": {},
   "source": [
    "1) Read in the weather data in hdf5 format, each year stored in a seperate file"
   ]
  },
  {
   "cell_type": "markdown",
   "metadata": {},
   "source": [
    "2) Convert the data format to a python dictionary containing the weather data over the available time span"
   ]
  },
  {
   "cell_type": "markdown",
   "metadata": {},
   "source": [
    "        The dictionary is structured as follows:"
   ]
  },
  {
   "cell_type": "markdown",
   "metadata": {},
   "source": [
    "        {"
   ]
  },
  {
   "cell_type": "markdown",
   "metadata": {},
   "source": [
    "        'WEATHER_APPARENT_TEMPERATURE_TOTAL': apparent temperature data,"
   ]
  },
  {
   "cell_type": "markdown",
   "metadata": {},
   "source": [
    "        'WEATHER_ATMOSPHERIC_PRESSURE_TOTAL': atmospheric pressure data,"
   ]
  },
  {
   "cell_type": "markdown",
   "metadata": {},
   "source": [
    "        'WEATHER_PRECIPITATION_RATE_TOTAL': percipitation rate data,"
   ]
  },
  {
   "cell_type": "markdown",
   "metadata": {},
   "source": [
    "        'WEATHER_PROBABILITY_OF_PRECIPITATION_TOTAL': probability of precipitation data,"
   ]
  },
  {
   "cell_type": "markdown",
   "metadata": {},
   "source": [
    "        'WEATHER_RELATIVE_HUMIDITY_TOTAL': relative humidity data,"
   ]
  },
  {
   "cell_type": "markdown",
   "metadata": {},
   "source": [
    "        'WEATHER_SOLAR_IRRADIANCE_GLOBAL': solar irradiance data,"
   ]
  },
  {
   "cell_type": "markdown",
   "metadata": {},
   "source": [
    "        'WEATHER_TEMPERATURE_TOTAL': temperature data,"
   ]
  },
  {
   "cell_type": "markdown",
   "metadata": {},
   "source": [
    "        'WEATHER_WIND_DIRECTION_TOTAL': wind direction data,"
   ]
  },
  {
   "cell_type": "markdown",
   "metadata": {},
   "source": [
    "        'WEATHER_WIND_GUST_SPEED_TOTAL': wind gust speed data,"
   ]
  },
  {
   "cell_type": "markdown",
   "metadata": {},
   "source": [
    "        'WEATHER_WIND_SPEED_TOTAL': wind speed data,"
   ]
  },
  {
   "cell_type": "markdown",
   "metadata": {},
   "source": [
    "         }"
   ]
  },
  {
   "cell_type": "markdown",
   "metadata": {},
   "source": [
    "3) Save the dictionary to a pickle file at 'Data/weather/data_weather.pkl'"
   ]
  },
  {
   "cell_type": "markdown",
   "metadata": {},
   "source": [
    "(4. Additional code used to check code functionality and data quality)"
   ]
  },
  {
   "cell_type": "markdown",
   "metadata": {},
   "source": [
    "-------------"
   ]
  },
  {
   "cell_type": "markdown",
   "metadata": {},
   "source": [
    "#### Imports"
   ]
  },
  {
   "cell_type": "code",
   "execution_count": 28,
   "metadata": {},
   "outputs": [],
   "source": [
    "import h5py\n",
    "import pandas as pd\n",
    "import numpy as np\n",
    "import pickle \n",
    "from datetime import datetime\n",
    "import math\n",
    "\n",
    "pd.options.mode.chained_assignment = None "
   ]
  },
  {
   "cell_type": "markdown",
   "metadata": {},
   "source": [
    "#### Functions to convert data"
   ]
  },
  {
   "cell_type": "code",
   "execution_count": 29,
   "metadata": {},
   "outputs": [],
   "source": [
    "def hdf_to_pandas(hdf_dataset):\n",
    "    column_type_dict = {x:str(y[0]) for x,y in hdf_dataset.dtype.fields.items()}\n",
    "    column_list = []\n",
    "    for index in column_type_dict:\n",
    "        column_list.append(index)\n",
    "    list_of_rows = []\n",
    "    for line in range(0, hdf_dataset.size):\n",
    "        list_of_rows.append(np.asarray(hdf_dataset[line]).tolist())\n",
    "    return pd.DataFrame(data=list_of_rows, columns=column_list)\n",
    "\n",
    "def first_n_digits(num, n):\n",
    "    return num // 10 ** (int(math.log(num, 10)) - n + 1)"
   ]
  },
  {
   "cell_type": "markdown",
   "metadata": {},
   "source": [
    "-------------"
   ]
  },
  {
   "cell_type": "markdown",
   "metadata": {},
   "source": [
    "#### weather data for 2018 to one dictionary"
   ]
  },
  {
   "cell_type": "code",
   "execution_count": 30,
   "metadata": {},
   "outputs": [],
   "source": [
    "file = h5py.File('Data/HDF5data/weather/2018_weather.hdf5', 'r')\n",
    "dset_weather = file[\"WEATHER_SERVICE\"]\n",
    "dset_weather = dset_weather[\"IN\"]\n",
    "\n",
    "weather_dict_2018 = {}\n",
    "for key in dset_weather:\n",
    "    df_variable = dset_weather[key]\n",
    "    df_variable = df_variable['table']\n",
    "    weather_dict_2018[key] = hdf_to_pandas(df_variable)\n",
    "    \n",
    "    #shorten 64 to 32 bit integer\n",
    "    weather_dict_2018[key][\"index\"] = weather_dict_2018[key][\"index\"].apply(lambda x: first_n_digits(x, 10))"
   ]
  },
  {
   "cell_type": "markdown",
   "metadata": {},
   "source": [
    "#### weather data for 2019 to one dictionary"
   ]
  },
  {
   "cell_type": "code",
   "execution_count": 31,
   "metadata": {},
   "outputs": [],
   "source": [
    "file = h5py.File('Data/HDF5data/weather/2019_weather.hdf5', 'r')\n",
    "dset_weather = file[\"WEATHER_SERVICE\"]\n",
    "dset_weather = dset_weather[\"IN\"]\n",
    "\n",
    "weather_dict_2019 = {}\n",
    "for key in dset_weather:\n",
    "    df_variable = dset_weather[key]\n",
    "    df_variable = df_variable['table']\n",
    "    weather_dict_2019[key] = hdf_to_pandas(df_variable)\n",
    "    \n",
    "    #shorten 64 to 32 bit integer\n",
    "    weather_dict_2019[key][\"index\"] = weather_dict_2019[key][\"index\"].apply(lambda x: first_n_digits(x, 10))"
   ]
  },
  {
   "cell_type": "markdown",
   "metadata": {},
   "source": [
    "#### weather data for 2020 to one dictionary"
   ]
  },
  {
   "cell_type": "code",
   "execution_count": 32,
   "metadata": {},
   "outputs": [],
   "source": [
    "file = h5py.File('Data/HDF5data/weather/2020_weather.hdf5', 'r')\n",
    "dset_weather = file[\"WEATHER_SERVICE\"]\n",
    "dset_weather = dset_weather[\"IN\"]\n",
    "\n",
    "weather_dict_2020 = {}\n",
    "for key in dset_weather:\n",
    "    df_variable = dset_weather[key]\n",
    "    df_variable = df_variable['table']\n",
    "    weather_dict_2020[key] = hdf_to_pandas(df_variable)\n",
    "    \n",
    "    #shorten 64 to 32 bit integer\n",
    "    weather_dict_2020[key][\"index\"] = weather_dict_2020[key][\"index\"].apply(lambda x: first_n_digits(x, 10))"
   ]
  },
  {
   "cell_type": "markdown",
   "metadata": {},
   "source": [
    "#### concat weather data, 2018-2020 for each parameter in one dataframe"
   ]
  },
  {
   "cell_type": "code",
   "execution_count": 36,
   "metadata": {},
   "outputs": [],
   "source": [
    "weather_dict = {}\n",
    "\n",
    "for parameter in weather_dict_2018:\n",
    "    weather_dict[parameter] = pd.concat([weather_dict_2018[parameter],weather_dict_2019[parameter],weather_dict_2020[parameter]])"
   ]
  },
  {
   "cell_type": "markdown",
   "metadata": {},
   "source": [
    "#### save to pickle file"
   ]
  },
  {
   "cell_type": "code",
   "execution_count": null,
   "metadata": {},
   "outputs": [],
   "source": [
    "with open('Data/weather/data_weather.pkl', 'wb') as f:\n",
    "    pickle.dump(weather_dict, f)"
   ]
  },
  {
   "cell_type": "markdown",
   "metadata": {},
   "source": [
    "#### read saved file"
   ]
  },
  {
   "cell_type": "code",
   "execution_count": 39,
   "metadata": {},
   "outputs": [],
   "source": [
    "with open('Data/weather/data_weather.pkl', 'rb') as f:\n",
    "    weather_dict = pickle.load(f)"
   ]
  },
  {
   "cell_type": "markdown",
   "metadata": {},
   "source": [
    "______________________________"
   ]
  },
  {
   "cell_type": "markdown",
   "metadata": {},
   "source": [
    "#### weather data exploration"
   ]
  },
  {
   "cell_type": "code",
   "execution_count": 40,
   "metadata": {},
   "outputs": [
    {
     "name": "stdout",
     "output_type": "stream",
     "text": [
      "WEATHER_APPARENT_TEMPERATURE_TOTAL 256047\n",
      "WEATHER_ATMOSPHERIC_PRESSURE_TOTAL 256047\n",
      "WEATHER_PRECIPITATION_RATE_TOTAL 256047\n",
      "WEATHER_PROBABILITY_OF_PRECIPITATION_TOTAL 256047\n",
      "WEATHER_RELATIVE_HUMIDITY_TOTAL 256047\n",
      "WEATHER_SOLAR_IRRADIANCE_GLOBAL 255368\n",
      "WEATHER_TEMPERATURE_TOTAL 256098\n",
      "WEATHER_WIND_DIRECTION_TOTAL 256098\n",
      "WEATHER_WIND_GUST_SPEED_TOTAL 256047\n",
      "WEATHER_WIND_SPEED_TOTAL 255368\n"
     ]
    }
   ],
   "source": [
    "for parameter in weather_dict:\n",
    "    print(str(parameter) + \" \" + str(len(weather_dict[parameter])))"
   ]
  },
  {
   "cell_type": "markdown",
   "metadata": {},
   "source": [
    "exploration for 'WEATHER_TEMPERATURE_TOTAL'"
   ]
  },
  {
   "cell_type": "code",
   "execution_count": 41,
   "metadata": {},
   "outputs": [
    {
     "data": {
      "text/html": [
       "<div>\n",
       "<style scoped>\n",
       "    .dataframe tbody tr th:only-of-type {\n",
       "        vertical-align: middle;\n",
       "    }\n",
       "\n",
       "    .dataframe tbody tr th {\n",
       "        vertical-align: top;\n",
       "    }\n",
       "\n",
       "    .dataframe thead th {\n",
       "        text-align: right;\n",
       "    }\n",
       "</style>\n",
       "<table border=\"1\" class=\"dataframe\">\n",
       "  <thead>\n",
       "    <tr style=\"text-align: right;\">\n",
       "      <th></th>\n",
       "      <th>index</th>\n",
       "      <th>TEMPERATURE:TOTAL</th>\n",
       "    </tr>\n",
       "  </thead>\n",
       "  <tbody>\n",
       "    <tr>\n",
       "      <th>0</th>\n",
       "      <td>1546297200</td>\n",
       "      <td>8.4</td>\n",
       "    </tr>\n",
       "    <tr>\n",
       "      <th>1</th>\n",
       "      <td>1546297800</td>\n",
       "      <td>8.8</td>\n",
       "    </tr>\n",
       "    <tr>\n",
       "      <th>2</th>\n",
       "      <td>1546298100</td>\n",
       "      <td>8.8</td>\n",
       "    </tr>\n",
       "    <tr>\n",
       "      <th>3</th>\n",
       "      <td>1546298400</td>\n",
       "      <td>8.8</td>\n",
       "    </tr>\n",
       "    <tr>\n",
       "      <th>4</th>\n",
       "      <td>1546298700</td>\n",
       "      <td>8.8</td>\n",
       "    </tr>\n",
       "    <tr>\n",
       "      <th>...</th>\n",
       "      <td>...</td>\n",
       "      <td>...</td>\n",
       "    </tr>\n",
       "    <tr>\n",
       "      <th>104544</th>\n",
       "      <td>1577832000</td>\n",
       "      <td>1.2</td>\n",
       "    </tr>\n",
       "    <tr>\n",
       "      <th>104545</th>\n",
       "      <td>1577832300</td>\n",
       "      <td>1.1</td>\n",
       "    </tr>\n",
       "    <tr>\n",
       "      <th>104546</th>\n",
       "      <td>1577832600</td>\n",
       "      <td>1.1</td>\n",
       "    </tr>\n",
       "    <tr>\n",
       "      <th>104547</th>\n",
       "      <td>1577832900</td>\n",
       "      <td>1.1</td>\n",
       "    </tr>\n",
       "    <tr>\n",
       "      <th>104548</th>\n",
       "      <td>1577833200</td>\n",
       "      <td>1.1</td>\n",
       "    </tr>\n",
       "  </tbody>\n",
       "</table>\n",
       "<p>104549 rows × 2 columns</p>\n",
       "</div>"
      ],
      "text/plain": [
       "             index  TEMPERATURE:TOTAL\n",
       "0       1546297200                8.4\n",
       "1       1546297800                8.8\n",
       "2       1546298100                8.8\n",
       "3       1546298400                8.8\n",
       "4       1546298700                8.8\n",
       "...            ...                ...\n",
       "104544  1577832000                1.2\n",
       "104545  1577832300                1.1\n",
       "104546  1577832600                1.1\n",
       "104547  1577832900                1.1\n",
       "104548  1577833200                1.1\n",
       "\n",
       "[104549 rows x 2 columns]"
      ]
     },
     "execution_count": 41,
     "metadata": {},
     "output_type": "execute_result"
    }
   ],
   "source": [
    "parameter = 'WEATHER_TEMPERATURE_TOTAL'\n",
    "weather_dict_2019[parameter]"
   ]
  },
  {
   "cell_type": "code",
   "execution_count": 42,
   "metadata": {},
   "outputs": [
    {
     "data": {
      "text/plain": [
       "time_difference\n",
       "300.0      104310\n",
       "600.0         146\n",
       "0.0            37\n",
       "900.0          32\n",
       "1200.0         12\n",
       "2100.0          3\n",
       "3000.0          2\n",
       "1500.0          2\n",
       "24900.0         1\n",
       "70120.0         1\n",
       "80.0            1\n",
       "1800.0          1\n",
       "Name: count, dtype: int64"
      ]
     },
     "execution_count": 42,
     "metadata": {},
     "output_type": "execute_result"
    }
   ],
   "source": [
    "weather_dict_2019[parameter]['time_difference'] = weather_dict_2019[parameter]['index'] - weather_dict_2019[parameter]['index'].shift(1)\n",
    "weather_dict_2019[parameter]['time_difference'].value_counts()"
   ]
  }
 ],
 "metadata": {
  "kernelspec": {
   "display_name": "Python 3.11.3 64-bit",
   "language": "python",
   "name": "python3"
  },
  "language_info": {
   "codemirror_mode": {
    "name": "ipython",
    "version": 3
   },
   "file_extension": ".py",
   "mimetype": "text/x-python",
   "name": "python",
   "nbconvert_exporter": "python",
   "pygments_lexer": "ipython3",
   "version": "3.11.3"
  },
  "orig_nbformat": 4,
  "vscode": {
   "interpreter": {
    "hash": "b0fa6594d8f4cbf19f97940f81e996739fb7646882a419484c72d19e05852a7e"
   }
  }
 },
 "nbformat": 4,
 "nbformat_minor": 2
}
